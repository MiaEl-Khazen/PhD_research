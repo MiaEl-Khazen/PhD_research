{
 "cells": [
  {
   "cell_type": "code",
   "execution_count": 1,
   "metadata": {},
   "outputs": [],
   "source": [
    "#importing libraries \n",
    "import numpy as np\n",
    "import math\n",
    "import scipy.stats as st\n",
    "import statistics as stats\n",
    "import matplotlib.pyplot as plt\n",
    "import cmath \n",
    "import pandas as pd\n",
    "import xarray as xr \n",
    "from matplotlib.colors import LogNorm\n",
    "from matplotlib import colors\n",
    "%matplotlib inline  "
   ]
  },
  {
   "cell_type": "markdown",
   "metadata": {},
   "source": [
    "$$ \\frac{dC_{p}}{dt}=K_v\\frac{d^{2} C_{p}}{dz^{2}}-k_1*C_{d} -S\\frac{dC_p}{dz} $$"
   ]
  },
  {
   "cell_type": "code",
   "execution_count": 2,
   "metadata": {},
   "outputs": [],
   "source": [
    "# $$ \\int \\frac{\\delta^{2} C_{d}}{dz^{2}}= \\int \\frac{k_1}{D}*C_{d}  $$\n",
    "\n",
    "# $$ C=e^{\\frac{z}{\\zeta}} $$"
   ]
  },
  {
   "cell_type": "markdown",
   "metadata": {},
   "source": [
    "$$ \\frac{C_{p[j,i+1]}-C_{p[j,i]}}{dt}=(\\frac{K_v*(C_{p[j+1,i]}-2C_{p[j,i]}+C_{p[j-1,i]})}{dz^{2}}+k_1*C_{d[j,i]}-S*\\frac{(C_{p[j+1,i]}-C_{p[j,i]})}{dz} ) $$\n",
    "\n",
    "\n",
    "$$ C_{p[j,i+1]}=(\\frac{K_v*(C_{p[j+1,i]}-2C_{p[j,i]}+C_{p[j-1,i]})}{dz^{2}}+k_1*C_{d[j,i]}-S*\\frac{(C_{p[j+1,i]}-C_{p[j,i]})}{dz} )*dt+C_{p[j,i]} $$\n",
    "\n",
    "\n"
   ]
  },
  {
   "cell_type": "markdown",
   "metadata": {},
   "source": [
    "$$ \\frac{dC_{d}}{dt}=K_v\\frac{d^{2} C_{d}}{dz^{2}}-k_1*C_{d}  $$"
   ]
  },
  {
   "cell_type": "markdown",
   "metadata": {},
   "source": [
    "$$ \\frac{C_{d[j,i+1]}-C_{d[j,i]}}{dt}=(\\frac{K_v*(C_{d[j+1,i]}-2C_{d[j,i]}+C_{d[j-1,i]})}{dz^{2}}-k_1*C_{d[j,i]} ) $$"
   ]
  },
  {
   "cell_type": "markdown",
   "metadata": {},
   "source": [
    "$$ C_{d[j,i+1]}=(\\frac{K_v*(C_{d[j+1,i]}-2C_{d[j,i]}+C_{d[j-1,i]})}{dz^{2}}-k_1*C_{d[j,i]} )*dt +C_{d[j,i]}$$"
   ]
  },
  {
   "cell_type": "markdown",
   "metadata": {},
   "source": [
    "$$ \\frac{\\delta C_{d}}{\\delta t}=0=K_v*\\frac{\\delta C_{d}^{2}}{\\delta z^{2}}-k_1*C_{d}  $$"
   ]
  },
  {
   "cell_type": "markdown",
   "metadata": {},
   "source": [
    "$$ 0=K_v*\\frac{\\delta^{2} C_{d}}{\\delta z^{2}}-k_1*C_{d}  $$\n",
    "\n",
    "$$ K_v*\\frac{\\delta^{2} C_{d}}{\\delta z^{2}}=k_1*C_{d}  $$\n",
    "\n",
    "$$ \\frac{\\delta^{2} C_{d}}{\\delta z^{2}}=\\frac{k_1}{K_v}*C_{d}  $$\n"
   ]
  },
  {
   "cell_type": "markdown",
   "metadata": {},
   "source": [
    "$$ C=C_0e^{\\frac{-z}{\\zeta}} $$\n",
    "\n",
    "$$ \\int \\frac{\\delta^{2}e^{\\frac{z}{\\zeta}} }{\\delta z^{2}} = \\int \\frac{k_1}{K_v} e^{\\frac{z}{\\zeta}} $$\n",
    "\n",
    "$$  (\\frac{1}{\\zeta})^{2} e^{\\frac{z}{\\zeta}} = \\frac{k_1}{K_v} e^{\\frac{z}{\\zeta}} $$\n",
    "$$  (\\frac{1}{\\zeta})^{2} e^{\\frac{z}{\\zeta}}-\\frac{k_1}{K_v} e^{\\frac{z}{\\zeta}} =0$$\n",
    "$$  e^{\\frac{z}{\\zeta}}( (\\frac{1}{\\zeta})^{2}-\\frac{k_1}{K_v}) =0$$\n",
    "$$  (\\frac{1}{\\zeta})^{2}-\\frac{k_1}{K_v} =0$$\n",
    "$$  (\\frac{1}{\\zeta})^{2}=\\frac{k_1}{K_v}$$\n",
    "$$  {\\zeta}=\\sqrt{\\frac{K_v}{k_1}}$$"
   ]
  },
  {
   "cell_type": "code",
   "execution_count": 3,
   "metadata": {},
   "outputs": [],
   "source": [
    "HaleyB_ds=pd.read_excel('watercolumn Nd for mia-2.xlsx', sheet_name='Sheet2')"
   ]
  },
  {
   "cell_type": "code",
   "execution_count": 4,
   "metadata": {},
   "outputs": [
    {
     "data": {
      "text/plain": [
       "Text(0, 0.5, 'depth(m)')"
      ]
     },
     "execution_count": 4,
     "metadata": {},
     "output_type": "execute_result"
    },
    {
     "data": {
      "image/png": "[encoded data removed]",
      "text/plain": [
       "<Figure size 432x288 with 1 Axes>"
      ]
     },
     "metadata": {
      "needs_background": "light"
     },
     "output_type": "display_data"
    }
   ],
   "source": [
    "plt.title(\"Brian's observation data\")\n",
    "plt.plot(HaleyB_ds['Nd (pM)'],HaleyB_ds['Depth'],'o')\n",
    "plt.gca().invert_yaxis()\n",
    "plt.xlabel('Dissolveled Neodymium concentration (pMol)')\n",
    "plt.ylabel('depth(m)')\n"
   ]
  },
  {
   "cell_type": "code",
   "execution_count": 5,
   "metadata": {},
   "outputs": [],
   "source": [
    "dt=0.001\n",
    "t_300=int(300/dt)\n",
    "t_10000=int(10000/dt)"
   ]
  },
  {
   "cell_type": "code",
   "execution_count": 6,
   "metadata": {},
   "outputs": [],
   "source": [
    "\n",
    "mw_c=0.06#  #Calcite sinking speed increase with depth (s-1) \n",
    "wc0=35    #constant calcite sinking speed [m/day] "
   ]
  },
  {
   "cell_type": "code",
   "execution_count": 7,
   "metadata": {},
   "outputs": [],
   "source": [
    "\n",
    "z_F=np.array([0,17.5,82.5,177.5,302.5,457.5, 642.5,857.5, 1102.5, 1377.5,1682.5, 2017.5, 2382.5, 2777.5, 3202.5,3657.5, 4142.5,4657.5,5202.5, 5777.5] )\n",
    "num=(len(z_F))\n",
    "dz=np.zeros(num-1)\n",
    "z_C=np.zeros(num-1)\n",
    "for i in range(num-1):\n",
    "    dz[i]=z_F[i+1]-z_F[i]\n",
    "    z_C[i]=(z_F[i+1]+z_F[i])/2"
   ]
  },
  {
   "cell_type": "code",
   "execution_count": 8,
   "metadata": {},
   "outputs": [],
   "source": [
    "\n",
    "#dt=0.2#sec\n",
    "#Sed_flux=(10e-12*100**2)#mol Nd yr intial sed flux in mol/m2 yr in proposal 20pmol cm-2 yr-1\n",
    "#Sed_flux_5=(5e-12*100**2)#mol Nd yr intial sed flux in mol/m2 yr in proposal 20pmol cm-2 yr-1\n",
    "Ko=(10**(-4)*60*60*24*365) #m2/s to m2/yr vertical diffusivity \n",
    "Kf=(10**(-5)*60*60*24*365) #m2/s to m2/yr vertical diffusivity \n",
    "c=1/500 #1/500m obervation e folding depth\n",
    "#D=Ko*np.exp((-z_F[:]+z_F[-1])*-c)+Kf\n",
    "D=Ko*np.exp((-z_C[:]+z_C[-1])*-c)+Kf \n",
    "Kp=0.001425#10**(-3)\n",
    "K_desorp=0.0358 #desorption\n",
    "zeta=np.sqrt(D/Kp)"
   ]
  },
  {
   "cell_type": "code",
   "execution_count": 9,
   "metadata": {},
   "outputs": [
    {
     "data": {
      "image/png": "[encoded data removed]",
      "text/plain": [
       "<Figure size 432x288 with 1 Axes>"
      ]
     },
     "metadata": {
      "needs_background": "light"
     },
     "output_type": "display_data"
    }
   ],
   "source": [
    "plt.title('Diffusivity variation with depth')\n",
    "plt.plot(D/(60*60*24*365),z_C)\n",
    "plt.xlabel(\"Diffusifity (m2/s)\")\n",
    "plt.ylabel(\"Depth(m)\")\n",
    "plt.gca().invert_yaxis()"
   ]
  },
  {
   "cell_type": "code",
   "execution_count": 10,
   "metadata": {},
   "outputs": [],
   "source": [
    "area_freq=[0.000E+00,5.278E+12,2.898E+12, 2.974E+12,3.387E+12, 3.367E+12,8.289E+12,1.410E+13, 7.050E+12,8.256E+12,1.859E+13,2.469E+13,1.453E+13,2.496E+13,4.086E+13,5.308E+13,4.757E+13,4.940E+13,2.750E+13]"
   ]
  },
  {
   "cell_type": "code",
   "execution_count": 11,
   "metadata": {},
   "outputs": [],
   "source": [
    "total_area=np.sum(area_freq)\n",
    "rel_area=area_freq/total_area"
   ]
  },
  {
   "cell_type": "code",
   "execution_count": 12,
   "metadata": {},
   "outputs": [
    {
     "data": {
      "image/png": "[encoded data removed]",
      "text/plain": [
       "<Figure size 432x288 with 1 Axes>"
      ]
     },
     "metadata": {
      "needs_background": "light"
     },
     "output_type": "display_data"
    }
   ],
   "source": [
    "plt.plot(area_freq,z_C)\n",
    "plt.gca().invert_yaxis()"
   ]
  },
  {
   "cell_type": "code",
   "execution_count": 13,
   "metadata": {},
   "outputs": [
    {
     "data": {
      "image/png": "[encoded data removed]",
      "text/plain": [
       "<Figure size 432x288 with 1 Axes>"
      ]
     },
     "metadata": {
      "needs_background": "light"
     },
     "output_type": "display_data"
    }
   ],
   "source": [
    "plt.plot(rel_area,z_C)\n",
    "plt.gca().invert_yaxis()"
   ]
  },
  {
   "cell_type": "code",
   "execution_count": 14,
   "metadata": {},
   "outputs": [],
   "source": [
    "F_b=((10e-12*100**2)*rel_area)/dz\n",
    "#F_b_5=(Sed_flux_5*rel_area)/dz"
   ]
  },
  {
   "cell_type": "code",
   "execution_count": null,
   "metadata": {},
   "outputs": [],
   "source": []
  },
  {
   "cell_type": "code",
   "execution_count": 15,
   "metadata": {},
   "outputs": [
    {
     "data": {
      "image/png": "[encoded data removed]",
      "text/plain": [
       "<Figure size 432x288 with 1 Axes>"
      ]
     },
     "metadata": {
      "needs_background": "light"
     },
     "output_type": "display_data"
    }
   ],
   "source": [
    "plt.plot(F_b,z_C)\n",
    "plt.gca().invert_yaxis()"
   ]
  },
  {
   "cell_type": "code",
   "execution_count": 16,
   "metadata": {},
   "outputs": [
    {
     "data": {
      "text/plain": [
       "array([0.00000000e+00, 2.27591871e-11, 8.55018461e-12, 6.66855392e-12,\n",
       "       6.12469145e-12, 5.10119710e-12, 1.08059859e-11, 1.61307197e-11,\n",
       "       7.18550241e-12, 7.58700833e-12, 1.55537566e-11, 1.89595900e-11,\n",
       "       1.03102509e-11, 1.64610058e-11, 2.51702588e-11, 3.06753758e-11,\n",
       "       2.58896774e-11, 2.54056998e-11, 1.34049613e-11])"
      ]
     },
     "execution_count": 16,
     "metadata": {},
     "output_type": "execute_result"
    }
   ],
   "source": [
    "F_b"
   ]
  },
  {
   "cell_type": "code",
   "execution_count": 17,
   "metadata": {},
   "outputs": [],
   "source": [
    "#modified "
   ]
  },
  {
   "cell_type": "code",
   "execution_count": 18,
   "metadata": {},
   "outputs": [],
   "source": [
    "#z_F:  is the depth layers (meters)\n",
    "#dt:   time step (years) \n",
    "#Sed_flux: the sediment flux(pmol cm^-2 yr ^-1)\n",
    "#Diffusivity :veritical Diffusivity (m/yr)\n",
    "#Kp : Adsorption coefficeint (yr^-1)\n",
    "\n",
    "#t: number of time steps (years)\n",
    "mw_c=0.06#  #Calcite sinking speed increase with depth (s-1) \n",
    "wc0=35    #constant calcite sinking speed [m/day]\n",
    "\n",
    "#function to calculate irriversable scavenging \n",
    "def calc_IR_conc(z_F,dt,Sed_Flux,Diffusivity,Kp,t):\n",
    "\n",
    "    num=(len(z_F))                       #number of layers \n",
    "    dz=np.zeros(num-1)                   #the distance between layers empty array \n",
    "    z_C=np.zeros(num-1)                  #the depth at the center of the layer empty array \n",
    "    for i in range(num-1):               # for loop to fill dz and z_C array based on the z_F  \n",
    "        dz[i]=z_F[i+1]-z_F[i]\n",
    "        z_C[i]=(z_F[i+1]+z_F[i])/2\n",
    "        \n",
    "        \n",
    "        \n",
    "    \n",
    "    \n",
    "    Sed_flux_converted= (Sed_Flux*1e-12*100**2)#mol Nd yr intial sed flux in mol/m2 yr in proposal 20pmol cm-2 yr-1\n",
    "    D=Diffusivity#m2/s to m2/yr vertical diffusivity \n",
    "    zeta=np.sqrt(D/Kp)    \n",
    "    F_b=(Sed_flux_converted*rel_area)/dz\n",
    "    \n",
    "    \n",
    "    Cd=np.zeros((num-1,t)) #2D depth and time array for dissolved concentration 10000 when p=1\n",
    "    F=np.zeros((num,t-1)) #2D depth and time array for diffusive flux\n",
    "    F_diffusion=np.zeros((num,t-1)) #2D depth and time array for diffusive flux\n",
    "    Cp=np.zeros((num-1,t)) #2D depth and time array for particle concentration \n",
    "    F_p=np.zeros((num,t-1)) #2D depth and time array for diffusive flux for particle \n",
    "    S_F=np.zeros((num,t-1)) #2D depth and time array for sinking flux\n",
    "    D_S=np.zeros((num-1,t-1)) #2D divergence of flux\n",
    "    D_F=np.zeros((num-1,t-1)) #2D divergence of flux\n",
    "    S=np.zeros((num-1)) #2D depth and time array for sinking speed\n",
    "    vel=np.zeros((num-1)) #2D depth and time array for sinking speed\n",
    "    #Cd[0,:]=16.73e-12*1000 # background Nd mol \n",
    "\n",
    "    F[-1,:]=0\n",
    "    F_p[-1,:]=0  \n",
    "    F[0,:]=0\n",
    "    F_p[0,:]=0\n",
    "    S_F[0,:]=0\n",
    "\n",
    "\n",
    "    for k in range (0,num-1):            \n",
    " \n",
    "        if z_F[k]<(1000):\n",
    "            S[k]=(wc0+(mw_c)*(abs(z_F[0]-z_C[k])))/(60*60*24*dz[k])# s-1    \n",
    "        elif z_F[k]>=(1000):\n",
    "            S[k]=(wc0+mw_c*(1000))/(60*60*24*dz[k]) #s-1 \n",
    "        vel[k]=S[k]*(60*60*24*365) #yr-1\n",
    "    for i in range (0,t-1):                 \n",
    "        for k in range (1,num-1):\n",
    "        \n",
    "            F[k,i]=D[k]*((Cd[k,i]-Cd[k-1,i])/dz[k])           \n",
    "\n",
    "            F_p[k,i]=D[k]*((Cp[k,i]-Cp[k-1,i])/dz[k])\n",
    "   \n",
    "        for k in range(1,num):\n",
    "        \n",
    "            S_F[k,i]=vel[k-1]*Cp[k-1,i]\n",
    "        for k in range(0,num-1):\n",
    "       \n",
    "        #divergence of advection \n",
    "            D_S[k,i]=(S_F[k+1,i]-S_F[k,i])#/dz[k] change this is the model \n",
    "\n",
    "            Cd[k,i+1]=((((F[k+1,i]-F[k,i])/dz[k])-Kp*Cd[k,i]+F_b[k])*dt+Cd[k,i])\n",
    "            D_F[k,i]=(F_p[k+1,i]-F_p[k,i])/dz[k]      \n",
    "       \n",
    "            Cp[k,i+1]=((((F_p[k+1,i]-F_p[k,i])/dz[k])+(Kp*Cd[k,i])-D_S[k,i])*dt+Cp[k,i])\n",
    "        \n",
    "    return(Cd,Cp,z_C)\n",
    "     "
   ]
  },
  {
   "cell_type": "code",
   "execution_count": 19,
   "metadata": {},
   "outputs": [
    {
     "data": {
      "text/plain": [
       "300000"
      ]
     },
     "execution_count": 19,
     "metadata": {},
     "output_type": "execute_result"
    }
   ],
   "source": [
    "t_300"
   ]
  },
  {
   "cell_type": "code",
   "execution_count": null,
   "metadata": {},
   "outputs": [],
   "source": []
  },
  {
   "cell_type": "code",
   "execution_count": 20,
   "metadata": {},
   "outputs": [],
   "source": [
    "Sed_Flux=10\n",
    "Diffusivity=Ko*np.exp((-z_C[:]+z_C[-1])*-c)+Kf \n",
    "test_Cd, test_Cp, test_depth=calc_IR_conc(z_F,dt,Sed_Flux,Diffusivity,Kp,t_10000)"
   ]
  },
  {
   "cell_type": "code",
   "execution_count": 21,
   "metadata": {},
   "outputs": [],
   "source": [
    "t=t_10000 #time steps\n",
    "Cd=np.zeros((num-1,t)) #2D depth and time array for dissolved concentration 10000 when p=1\n",
    "#Cd=np.full((num-1,t),16.73e-12) #2D depth and time array for dissolved concentration 10000 when p=1\n",
    "F=np.zeros((num,t-1)) #2D depth and time array for diffusive flux\n",
    "F_diffusion=np.zeros((num,t-1)) #2D depth and time array for diffusive flux\n",
    "Cp=np.zeros((num-1,t)) #2D depth and time array for particle concentration \n",
    "F_p=np.zeros((num,t-1)) #2D depth and time array for diffusive flux for particle \n",
    "S_F=np.zeros((num,t-1)) #2D depth and time array for sinking flux\n",
    "D_S=np.zeros((num-1,t-1)) #2D divergence of flux\n",
    "D_F=np.zeros((num-1,t-1)) #2D divergence of flux\n",
    "S=np.zeros((num-1)) #2D depth and time array for sinking speed\n",
    "vel=np.zeros((num-1)) #2D depth and time array for sinking speed\n",
    "#Cd[0,:]=16.73e-12*1000 # background Nd mol \n",
    "\n",
    "F[-1,:]=(10e-12*100**2)\n",
    "F_p[-1,:]=0  \n",
    "F[0,:]=0\n",
    "F_p[0,:]=0\n",
    "S_F[0,:]=0\n",
    "\n",
    "\n",
    "for k in range (0,num-1):  \n",
    "    \n",
    "               \n",
    " \n",
    "        if z_F[k]<(1000):\n",
    "            S[k]=(wc0+(mw_c)*(abs(z_F[0]-z_C[k])))/(60*60*24*dz[k])# s-1    \n",
    "        elif z_F[k]>=(1000):\n",
    "            S[k]=(wc0+mw_c*(1000))/(60*60*24*dz[k]) #s-1 \n",
    "        vel[k]=S[k]*(60*60*24*365) #yr-1\n",
    "for i in range (0,t-1):\n",
    "    #Cd[0][i+1]=(((F[1][i]-F[0][i])/dz[k])-kp*Cd[0][i])*dt+Cd[0][i]\n",
    "    \n",
    "\n",
    "            \n",
    "  \n",
    "    for k in range (1,num-1):\n",
    "        \n",
    "        F[k,i]=D[k]*((Cd[k,i]-Cd[k-1,i])/dz[k])\n",
    "     \n",
    "       \n",
    "\n",
    "        F_p[k,i]=D[k]*((Cp[k,i]-Cp[k-1,i])/dz[k])\n",
    "   \n",
    "    for k in range(1,num):\n",
    "        \n",
    "        S_F[k,i]=vel[k-1]*Cp[k-1,i]\n",
    "    for k in range(0,num-1):\n",
    "       \n",
    "        #divergence of advection \n",
    "        D_S[k,i]=(S_F[k+1,i]-S_F[k,i])#/dz[k] \n",
    "\n",
    "        Cd[k,i+1]=((((F[k+1,i]-F[k,i])/dz[k])-Kp*Cd[k,i])*dt+Cd[k,i])\n",
    "        D_F[k,i]=(F_p[k+1,i]-F_p[k,i])/dz[k]     \n",
    "        \n",
    "        Cp[k,i+1]=(((D_F[k,i])+(Kp*Cd[k,i])-D_S[k,i])*dt+Cp[k,i])\n",
    "     "
   ]
  },
  {
   "cell_type": "code",
   "execution_count": 22,
   "metadata": {},
   "outputs": [
    {
     "data": {
      "text/plain": [
       "0.00134961873270801"
      ]
     },
     "execution_count": 22,
     "metadata": {},
     "output_type": "execute_result"
    }
   ],
   "source": [
    "np.min(dz/(vel*dz))"
   ]
  },
  {
   "cell_type": "code",
   "execution_count": 23,
   "metadata": {},
   "outputs": [
    {
     "data": {
      "text/plain": [
       "array([1.85669521e-103, 1.59036811e-099, 6.22696421e-095, 3.98509636e-090,\n",
       "       3.55996579e-085, 4.04418941e-080, 5.48893693e-075, 8.50306864e-070,\n",
       "       1.45035279e-064, 2.64237740e-059, 5.00147860e-054, 9.56335079e-049,\n",
       "       1.78782408e-043, 3.12066937e-038, 4.70320318e-033, 5.28273946e-028,\n",
       "       3.41553571e-023, 8.91383908e-019, 6.44251858e-015])"
      ]
     },
     "execution_count": 23,
     "metadata": {},
     "output_type": "execute_result"
    }
   ],
   "source": [
    "Kp*Cd[:,26]"
   ]
  },
  {
   "cell_type": "code",
   "execution_count": 24,
   "metadata": {},
   "outputs": [
    {
     "data": {
      "text/plain": [
       "array([ 2.16937321e-102,  1.71909984e-098,  6.14941436e-094,\n",
       "        3.57221635e-089,  2.88795176e-084,  2.96982619e-079,\n",
       "        3.66444934e-074,  5.21319955e-069,  8.10970002e-064,\n",
       "        1.33431639e-058,  2.25410026e-053,  3.79077130e-048,\n",
       "        6.11587504e-043,  8.97984816e-038,  1.09721358e-032,\n",
       "        9.42796356e-028,  4.19314298e-023,  5.77920464e-019,\n",
       "       -5.47805648e-019])"
      ]
     },
     "execution_count": 24,
     "metadata": {},
     "output_type": "execute_result"
    }
   ],
   "source": [
    "D_F[:,26]"
   ]
  },
  {
   "cell_type": "code",
   "execution_count": 25,
   "metadata": {},
   "outputs": [
    {
     "data": {
      "text/plain": [
       "array([0.00000000e+000, 0.00000000e+000, 3.91062945e-105, 9.96899620e-100,\n",
       "       2.64286013e-094, 7.74084639e-089, 2.47204452e-083, 8.43093586e-078,\n",
       "       3.01362219e-072, 9.65400121e-067, 3.08927512e-061, 9.80572900e-056,\n",
       "       3.02134781e-050, 8.78714205e-045, 2.31093409e-039, 5.08922860e-034,\n",
       "       8.09132999e-029, 7.12457860e-024, 2.37927134e-019, 1.85946273e-015])"
      ]
     },
     "execution_count": 25,
     "metadata": {},
     "output_type": "execute_result"
    }
   ],
   "source": [
    "S_F[:,19]"
   ]
  },
  {
   "cell_type": "code",
   "execution_count": 26,
   "metadata": {},
   "outputs": [
    {
     "data": {
      "text/plain": [
       "array([5.30359044e-103, 1.66902234e-099, 5.53426908e-095, 3.33932293e-090,\n",
       "       2.98613245e-085, 3.52126599e-080, 5.08336230e-075, 8.54307757e-070,\n",
       "       1.40152214e-064, 2.44328547e-059, 4.44414131e-054, 8.18925013e-049,\n",
       "       1.47751496e-043, 2.48856519e-038, 3.60992243e-033, 3.87700400e-028,\n",
       "       2.35998667e-023, 5.57019243e-019, 3.14852771e-015])"
      ]
     },
     "execution_count": 26,
     "metadata": {},
     "output_type": "execute_result"
    }
   ],
   "source": [
    "D_S[:,26]"
   ]
  },
  {
   "cell_type": "code",
   "execution_count": 27,
   "metadata": {},
   "outputs": [
    {
     "data": {
      "text/plain": [
       "array([2.54046619e-105, 2.49364917e-101, 9.58426717e-097, 5.95181939e-092,\n",
       "       5.13927597e-087, 5.64677499e-082, 7.44791936e-077, 1.13226620e-071,\n",
       "       1.92737704e-066, 3.50334265e-061, 6.60340436e-056, 1.25484914e-050,\n",
       "       2.32573779e-045, 4.01136534e-040, 5.94345883e-035, 6.50619455e-030,\n",
       "       4.03002594e-025, 9.66753674e-021, 5.55133055e-017])"
      ]
     },
     "execution_count": 27,
     "metadata": {},
     "output_type": "execute_result"
    }
   ],
   "source": [
    "Cp[:,27]"
   ]
  },
  {
   "cell_type": "code",
   "execution_count": 28,
   "metadata": {},
   "outputs": [
    {
     "data": {
      "text/plain": [
       "array([4.39728952e-100, 3.34807509e-096, 1.17982878e-091, 6.86420105e-087,\n",
       "       5.62094254e-082, 5.89431245e-077, 7.42857516e-072, 1.07406346e-066,\n",
       "       1.71751017e-061, 2.94504305e-056, 5.26467612e-051, 9.53678990e-046,\n",
       "       1.69371546e-040, 2.81561977e-035, 4.05057259e-030, 4.35187548e-025,\n",
       "       2.69645016e-020, 6.75568656e-016, 4.69492484e-012])"
      ]
     },
     "execution_count": 28,
     "metadata": {},
     "output_type": "execute_result"
    }
   ],
   "source": [
    "Cd[:,27]"
   ]
  },
  {
   "cell_type": "code",
   "execution_count": 29,
   "metadata": {},
   "outputs": [
    {
     "data": {
      "text/plain": [
       "[<matplotlib.lines.Line2D at 0x7f9f93f00890>]"
      ]
     },
     "execution_count": 29,
     "metadata": {},
     "output_type": "execute_result"
    },
    {
     "data": {
      "image/png": "[encoded data removed]",
      "text/plain": [
       "<Figure size 432x288 with 1 Axes>"
      ]
     },
     "metadata": {
      "needs_background": "light"
     },
     "output_type": "display_data"
    }
   ],
   "source": [
    "plt.plot(Cp[0,0:27])"
   ]
  },
  {
   "cell_type": "code",
   "execution_count": 30,
   "metadata": {},
   "outputs": [
    {
     "data": {
      "text/plain": [
       "array([1.73708038e-17, 1.20802522e-16, 2.38028090e-16, 3.73139574e-16,\n",
       "       5.24778550e-16, 7.06571157e-16, 9.50258053e-16, 1.31584398e-15,\n",
       "       2.20804121e-15, 3.98126878e-15, 7.67046498e-15, 1.58117259e-14,\n",
       "       3.47353734e-14, 8.04856755e-14, 1.92432956e-13, 4.54245574e-13,\n",
       "       9.88838615e-13, 1.87740878e-12, 3.09712504e-12])"
      ]
     },
     "execution_count": 30,
     "metadata": {},
     "output_type": "execute_result"
    }
   ],
   "source": [
    "Cp[:,-1]"
   ]
  },
  {
   "cell_type": "code",
   "execution_count": 31,
   "metadata": {},
   "outputs": [
    {
     "data": {
      "image/png": "[encoded data removed]",
      "text/plain": [
       "<Figure size 432x288 with 1 Axes>"
      ]
     },
     "metadata": {
      "needs_background": "light"
     },
     "output_type": "display_data"
    }
   ],
   "source": [
    "\n",
    "# sinking speed\n",
    "plt.plot(vel/(60*60*24*365)*dz,z_C)\n",
    "plt.xlabel('sinking speed (m/s)')\n",
    "plt.ylabel('depth (m)')\n",
    "plt.gca().invert_yaxis()"
   ]
  },
  {
   "cell_type": "code",
   "execution_count": 32,
   "metadata": {},
   "outputs": [
    {
     "data": {
      "image/png": "[encoded data removed]",
      "text/plain": [
       "<Figure size 432x288 with 1 Axes>"
      ]
     },
     "metadata": {
      "needs_background": "light"
     },
     "output_type": "display_data"
    }
   ],
   "source": [
    "\n",
    "# sinking speed\n",
    "plt.plot((vel*dz)/(60*60*24*365),z_C)\n",
    "plt.gca().invert_yaxis()"
   ]
  },
  {
   "cell_type": "code",
   "execution_count": 33,
   "metadata": {},
   "outputs": [],
   "source": [
    "# vert_bin=np.arange(0,np.max(Pacific['w_depth']),100)\n",
    "# Nd_binned=np.zeros(len(vert_bin))\n",
    "# #the mean of Nd concentration where the distance from the bottom is binned\n",
    "# for i in range (0,len(vert_bin)):\n",
    "#         Nd_binned[i]=np.mean(Pacific['Nd'][(Pacific['w_depth']<vert_bin[i])&(Pacific['w_depth']>vert_bin[i-1])])"
   ]
  },
  {
   "cell_type": "code",
   "execution_count": 34,
   "metadata": {},
   "outputs": [
    {
     "data": {
      "text/plain": [
       "<matplotlib.legend.Legend at 0x7f9c25853e90>"
      ]
     },
     "execution_count": 34,
     "metadata": {},
     "output_type": "execute_result"
    },
    {
     "data": {
      "image/png": "[encoded data removed]",
      "text/plain": [
       "<Figure size 432x288 with 1 Axes>"
      ]
     },
     "metadata": {
      "needs_background": "light"
     },
     "output_type": "display_data"
    }
   ],
   "source": [
    "\n",
    "plt.title('Pacific data and Reversable and irriversable scavenging model comparison ')\n",
    "\n",
    "\n",
    "\n",
    "plt.plot((Cp[:,-1]),z_C,label='IS variable diffusion  diffusion coefficent')\n",
    "# plt.plot(Cp_1[:,-1]/1020,z_C,label='IS variable diffusion coefficent')\n",
    "# plt.plot(Cp_2[:,-1]/1020,z_C,label='IS constant 10^-5 m^2/s diffusion coefficent')\n",
    "\n",
    "plt.xlabel('Nd mol/kg')\n",
    "plt.ylabel('depth (m)')\n",
    "plt.gca().invert_yaxis()\n",
    "plt.legend(bbox_to_anchor=(1., 1),fontsize=10)"
   ]
  },
  {
   "cell_type": "code",
   "execution_count": 35,
   "metadata": {},
   "outputs": [
    {
     "data": {
      "text/plain": [
       "<matplotlib.legend.Legend at 0x7f9c2598cc90>"
      ]
     },
     "execution_count": 35,
     "metadata": {},
     "output_type": "execute_result"
    },
    {
     "data": {
      "image/png": "[encoded data removed]",
      "text/plain": [
       "<Figure size 432x288 with 1 Axes>"
      ]
     },
     "metadata": {
      "needs_background": "light"
     },
     "output_type": "display_data"
    }
   ],
   "source": [
    "#plt.plot(z_C,Cp[:,-1],label='particulate')\n",
    "plt.title('Pacific data and model comparison ')\n",
    "\n",
    "plt.plot((Cd[:,-1])/1020,z_C,label=' IS variable diffusion  diffusion coefficent')\n",
    "# plt.plot(Cd_1[:,-1]/1020,z_C,label=' IS variable diffusion coefficent')\n",
    "# plt.plot(Cd_2[:,-1]/1020,z_C,label='IS  constant 10^-5 m^2/s diffusion coefficent')\n",
    "#plt.plot(Nd_binned*1e-12,vert_bin,'*', label='observed binned data')\n",
    "#plt.plot(Pacific['w_depth'],Pacific['Nd']*1e-12,'*',label='JD data')\n",
    "plt.plot(HaleyB_ds['Nd (pM)']*1e-12,HaleyB_ds['Depth'],'*',label='Brian pacific data ')\n",
    "plt.xlabel('Nd mol/kg')\n",
    "plt.ylabel('depth (m)')\n",
    "plt.gca().invert_yaxis()\n",
    "plt.legend(bbox_to_anchor=(1., 1),fontsize=10)"
   ]
  },
  {
   "cell_type": "code",
   "execution_count": 36,
   "metadata": {},
   "outputs": [],
   "source": [
    "# vert_bin_frombot=np.arange(0,np.max(JD_ds_dropna['delta_bot']),100)\n",
    "# Nd_binned_bot=np.zeros(len(vert_bin_frombot))\n",
    "# #the mean of Nd concentration where the distance from the bottom is binned\n",
    "# for i in range (0,len(vert_bin_frombot)):\n",
    "#         Nd_binned_bot[i]=np.mean(JD_ds_dropna['Nd'][(JD_ds_dropna['delta_bot']<=vert_bin_frombot[i])&(JD_ds_dropna['delta_bot']>vert_bin_frombot[i-1])])"
   ]
  },
  {
   "cell_type": "code",
   "execution_count": 37,
   "metadata": {},
   "outputs": [],
   "source": [
    "zeta_10_4=np.sqrt(Ko/Kp)\n",
    "analytical=Cd[-1,-1]*np.exp((z_C[:]-z_C[-1])/zeta_10_4)"
   ]
  },
  {
   "cell_type": "code",
   "execution_count": 38,
   "metadata": {},
   "outputs": [
    {
     "data": {
      "image/png": "[encoded data removed]",
      "text/plain": [
       "<Figure size 432x288 with 1 Axes>"
      ]
     },
     "metadata": {
      "needs_background": "light"
     },
     "output_type": "display_data"
    }
   ],
   "source": [
    "plt.title('Analytical solution vs Numerical model')\n",
    "\n",
    "plt.plot(Cd[:,-1],z_C[:]-z_C[0],label='constant 10^-5 m^2/s diffusion coefficent')\n",
    "plt.plot(analytical[0],z_C[0],\"o\")\n",
    "plt.legend(bbox_to_anchor=(2, 1),fontsize=10)\n",
    "plt.xlabel('Nd mol/kg')\n",
    "plt.ylabel('depth in meters (last 10,000 m)')\n",
    "plt.gca().invert_yaxis()"
   ]
  },
  {
   "cell_type": "code",
   "execution_count": 39,
   "metadata": {},
   "outputs": [],
   "source": [
    "UVIC10000yr_ds=xr.open_dataset('tavg.01000.01.01.nc',decode_times=False)\n",
    "GEOTRACERS_ds=xr.open_dataset('Nd_UVicgrid.nc',decode_times=False)"
   ]
  },
  {
   "cell_type": "code",
   "execution_count": 40,
   "metadata": {},
   "outputs": [
    {
     "data": {
      "text/html": [
       "<div><svg style=\"position: absolute; width: 0; height: 0; overflow: hidden\">\n",
       "<defs>\n",
       "<symbol id=\"icon-database\" viewBox=\"0 0 32 32\">\n",
       "<title>Show/Hide data repr</title>\n",
       "<path d=\"M16 0c-8.837 0-16 2.239-16 5v4c0 2.761 7.163 5 16 5s16-2.239 16-5v-4c0-2.761-7.163-5-16-5z\"></path>\n",
       "<path d=\"M16 17c-8.837 0-16-2.239-16-5v6c0 2.761 7.163 5 16 5s16-2.239 16-5v-6c0 2.761-7.163 5-16 5z\"></path>\n",
       "<path d=\"M16 26c-8.837 0-16-2.239-16-5v6c0 2.761 7.163 5 16 5s16-2.239 16-5v-6c0 2.761-7.163 5-16 5z\"></path>\n",
       "</symbol>\n",
       "<symbol id=\"icon-file-text2\" viewBox=\"0 0 32 32\">\n",
       "<title>Show/Hide attributes</title>\n",
       "<path d=\"M28.681 7.159c-0.694-0.947-1.662-2.053-2.724-3.116s-2.169-2.030-3.116-2.724c-1.612-1.182-2.393-1.319-2.841-1.319h-15.5c-1.378 0-2.5 1.121-2.5 2.5v27c0 1.378 1.122 2.5 2.5 2.5h23c1.378 0 2.5-1.122 2.5-2.5v-19.5c0-0.448-0.137-1.23-1.319-2.841zM24.543 5.457c0.959 0.959 1.712 1.825 2.268 2.543h-4.811v-4.811c0.718 0.556 1.584 1.309 2.543 2.268zM28 29.5c0 0.271-0.229 0.5-0.5 0.5h-23c-0.271 0-0.5-0.229-0.5-0.5v-27c0-0.271 0.229-0.5 0.5-0.5 0 0 15.499-0 15.5 0v7c0 0.552 0.448 1 1 1h7v19.5z\"></path>\n",
       "<path d=\"M23 26h-14c-0.552 0-1-0.448-1-1s0.448-1 1-1h14c0.552 0 1 0.448 1 1s-0.448 1-1 1z\"></path>\n",
       "<path d=\"M23 22h-14c-0.552 0-1-0.448-1-1s0.448-1 1-1h14c0.552 0 1 0.448 1 1s-0.448 1-1 1z\"></path>\n",
       "<path d=\"M23 18h-14c-0.552 0-1-0.448-1-1s0.448-1 1-1h14c0.552 0 1 0.448 1 1s-0.448 1-1 1z\"></path>\n",
       "</symbol>\n",
       "</defs>\n",
       "</svg>\n",
       "<style>/* CSS stylesheet for displaying xarray objects in jupyterlab.\n",
       " *\n",
       " */\n",
       "\n",
       ":root {\n",
       "  --xr-font-color0: var(--jp-content-font-color0, rgba(0, 0, 0, 1));\n",
       "  --xr-font-color2: var(--jp-content-font-color2, rgba(0, 0, 0, 0.54));\n",
       "  --xr-font-color3: var(--jp-content-font-color3, rgba(0, 0, 0, 0.38));\n",
       "  --xr-border-color: var(--jp-border-color2, #e0e0e0);\n",
       "  --xr-disabled-color: var(--jp-layout-color3, #bdbdbd);\n",
       "  --xr-background-color: var(--jp-layout-color0, white);\n",
       "  --xr-background-color-row-even: var(--jp-layout-color1, white);\n",
       "  --xr-background-color-row-odd: var(--jp-layout-color2, #eeeeee);\n",
       "}\n",
       "\n",
       ".xr-wrap {\n",
       "  min-width: 300px;\n",
       "  max-width: 700px;\n",
       "}\n",
       "\n",
       ".xr-header {\n",
       "  padding-top: 6px;\n",
       "  padding-bottom: 6px;\n",
       "  margin-bottom: 4px;\n",
       "  border-bottom: solid 1px var(--xr-border-color);\n",
       "}\n",
       "\n",
       ".xr-header > div,\n",
       ".xr-header > ul {\n",
       "  display: inline;\n",
       "  margin-top: 0;\n",
       "  margin-bottom: 0;\n",
       "}\n",
       "\n",
       ".xr-obj-type,\n",
       ".xr-array-name {\n",
       "  margin-left: 2px;\n",
       "  margin-right: 10px;\n",
       "}\n",
       "\n",
       ".xr-obj-type {\n",
       "  color: var(--xr-font-color2);\n",
       "}\n",
       "\n",
       ".xr-sections {\n",
       "  padding-left: 0 !important;\n",
       "  display: grid;\n",
       "  grid-template-columns: 150px auto auto 1fr 20px 20px;\n",
       "}\n",
       "\n",
       ".xr-section-item {\n",
       "  display: contents;\n",
       "}\n",
       "\n",
       ".xr-section-item input {\n",
       "  display: none;\n",
       "}\n",
       "\n",
       ".xr-section-item input + label {\n",
       "  color: var(--xr-disabled-color);\n",
       "}\n",
       "\n",
       ".xr-section-item input:enabled + label {\n",
       "  cursor: pointer;\n",
       "  color: var(--xr-font-color2);\n",
       "}\n",
       "\n",
       ".xr-section-item input:enabled + label:hover {\n",
       "  color: var(--xr-font-color0);\n",
       "}\n",
       "\n",
       ".xr-section-summary {\n",
       "  grid-column: 1;\n",
       "  color: var(--xr-font-color2);\n",
       "  font-weight: 500;\n",
       "}\n",
       "\n",
       ".xr-section-summary > span {\n",
       "  display: inline-block;\n",
       "  padding-left: 0.5em;\n",
       "}\n",
       "\n",
       ".xr-section-summary-in:disabled + label {\n",
       "  color: var(--xr-font-color2);\n",
       "}\n",
       "\n",
       ".xr-section-summary-in + label:before {\n",
       "  display: inline-block;\n",
       "  content: '►';\n",
       "  font-size: 11px;\n",
       "  width: 15px;\n",
       "  text-align: center;\n",
       "}\n",
       "\n",
       ".xr-section-summary-in:disabled + label:before {\n",
       "  color: var(--xr-disabled-color);\n",
       "}\n",
       "\n",
       ".xr-section-summary-in:checked + label:before {\n",
       "  content: '▼';\n",
       "}\n",
       "\n",
       ".xr-section-summary-in:checked + label > span {\n",
       "  display: none;\n",
       "}\n",
       "\n",
       ".xr-section-summary,\n",
       ".xr-section-inline-details {\n",
       "  padding-top: 4px;\n",
       "  padding-bottom: 4px;\n",
       "}\n",
       "\n",
       ".xr-section-inline-details {\n",
       "  grid-column: 2 / -1;\n",
       "}\n",
       "\n",
       ".xr-section-details {\n",
       "  display: none;\n",
       "  grid-column: 1 / -1;\n",
       "  margin-bottom: 5px;\n",
       "}\n",
       "\n",
       ".xr-section-summary-in:checked ~ .xr-section-details {\n",
       "  display: contents;\n",
       "}\n",
       "\n",
       ".xr-array-wrap {\n",
       "  grid-column: 1 / -1;\n",
       "  display: grid;\n",
       "  grid-template-columns: 20px auto;\n",
       "}\n",
       "\n",
       ".xr-array-wrap > label {\n",
       "  grid-column: 1;\n",
       "  vertical-align: top;\n",
       "}\n",
       "\n",
       ".xr-preview {\n",
       "  color: var(--xr-font-color3);\n",
       "}\n",
       "\n",
       ".xr-array-preview,\n",
       ".xr-array-data {\n",
       "  padding: 0 5px !important;\n",
       "  grid-column: 2;\n",
       "}\n",
       "\n",
       ".xr-array-data,\n",
       ".xr-array-in:checked ~ .xr-array-preview {\n",
       "  display: none;\n",
       "}\n",
       "\n",
       ".xr-array-in:checked ~ .xr-array-data,\n",
       ".xr-array-preview {\n",
       "  display: inline-block;\n",
       "}\n",
       "\n",
       ".xr-dim-list {\n",
       "  display: inline-block !important;\n",
       "  list-style: none;\n",
       "  padding: 0 !important;\n",
       "  margin: 0;\n",
       "}\n",
       "\n",
       ".xr-dim-list li {\n",
       "  display: inline-block;\n",
       "  padding: 0;\n",
       "  margin: 0;\n",
       "}\n",
       "\n",
       ".xr-dim-list:before {\n",
       "  content: '(';\n",
       "}\n",
       "\n",
       ".xr-dim-list:after {\n",
       "  content: ')';\n",
       "}\n",
       "\n",
       ".xr-dim-list li:not(:last-child):after {\n",
       "  content: ',';\n",
       "  padding-right: 5px;\n",
       "}\n",
       "\n",
       ".xr-has-index {\n",
       "  font-weight: bold;\n",
       "}\n",
       "\n",
       ".xr-var-list,\n",
       ".xr-var-item {\n",
       "  display: contents;\n",
       "}\n",
       "\n",
       ".xr-var-item > div,\n",
       ".xr-var-item label,\n",
       ".xr-var-item > .xr-var-name span {\n",
       "  background-color: var(--xr-background-color-row-even);\n",
       "  margin-bottom: 0;\n",
       "}\n",
       "\n",
       ".xr-var-item > .xr-var-name:hover span {\n",
       "  padding-right: 5px;\n",
       "}\n",
       "\n",
       ".xr-var-list > li:nth-child(odd) > div,\n",
       ".xr-var-list > li:nth-child(odd) > label,\n",
       ".xr-var-list > li:nth-child(odd) > .xr-var-name span {\n",
       "  background-color: var(--xr-background-color-row-odd);\n",
       "}\n",
       "\n",
       ".xr-var-name {\n",
       "  grid-column: 1;\n",
       "}\n",
       "\n",
       ".xr-var-dims {\n",
       "  grid-column: 2;\n",
       "}\n",
       "\n",
       ".xr-var-dtype {\n",
       "  grid-column: 3;\n",
       "  text-align: right;\n",
       "  color: var(--xr-font-color2);\n",
       "}\n",
       "\n",
       ".xr-var-preview {\n",
       "  grid-column: 4;\n",
       "}\n",
       "\n",
       ".xr-var-name,\n",
       ".xr-var-dims,\n",
       ".xr-var-dtype,\n",
       ".xr-preview,\n",
       ".xr-attrs dt {\n",
       "  white-space: nowrap;\n",
       "  overflow: hidden;\n",
       "  text-overflow: ellipsis;\n",
       "  padding-right: 10px;\n",
       "}\n",
       "\n",
       ".xr-var-name:hover,\n",
       ".xr-var-dims:hover,\n",
       ".xr-var-dtype:hover,\n",
       ".xr-attrs dt:hover {\n",
       "  overflow: visible;\n",
       "  width: auto;\n",
       "  z-index: 1;\n",
       "}\n",
       "\n",
       ".xr-var-attrs,\n",
       ".xr-var-data {\n",
       "  display: none;\n",
       "  background-color: var(--xr-background-color) !important;\n",
       "  padding-bottom: 5px !important;\n",
       "}\n",
       "\n",
       ".xr-var-attrs-in:checked ~ .xr-var-attrs,\n",
       ".xr-var-data-in:checked ~ .xr-var-data {\n",
       "  display: block;\n",
       "}\n",
       "\n",
       ".xr-var-data > table {\n",
       "  float: right;\n",
       "}\n",
       "\n",
       ".xr-var-name span,\n",
       ".xr-var-data,\n",
       ".xr-attrs {\n",
       "  padding-left: 25px !important;\n",
       "}\n",
       "\n",
       ".xr-attrs,\n",
       ".xr-var-attrs,\n",
       ".xr-var-data {\n",
       "  grid-column: 1 / -1;\n",
       "}\n",
       "\n",
       "dl.xr-attrs {\n",
       "  padding: 0;\n",
       "  margin: 0;\n",
       "  display: grid;\n",
       "  grid-template-columns: 125px auto;\n",
       "}\n",
       "\n",
       ".xr-attrs dt, dd {\n",
       "  padding: 0;\n",
       "  margin: 0;\n",
       "  float: left;\n",
       "  padding-right: 10px;\n",
       "  width: auto;\n",
       "}\n",
       "\n",
       ".xr-attrs dt {\n",
       "  font-weight: normal;\n",
       "  grid-column: 1;\n",
       "}\n",
       "\n",
       ".xr-attrs dt:hover span {\n",
       "  display: inline-block;\n",
       "  background: var(--xr-background-color);\n",
       "  padding-right: 10px;\n",
       "}\n",
       "\n",
       ".xr-attrs dd {\n",
       "  grid-column: 2;\n",
       "  white-space: pre-wrap;\n",
       "  word-break: break-all;\n",
       "}\n",
       "\n",
       ".xr-icon-database,\n",
       ".xr-icon-file-text2 {\n",
       "  display: inline-block;\n",
       "  vertical-align: middle;\n",
       "  width: 1em;\n",
       "  height: 1.5em !important;\n",
       "  stroke-width: 0;\n",
       "  stroke: currentColor;\n",
       "  fill: currentColor;\n",
       "}\n",
       "</style><div class='xr-wrap'><div class='xr-header'><div class='xr-obj-type'>xarray.Dataset</div></div><ul class='xr-sections'><li class='xr-section-item'><input id='section-062d8f9a-1fce-415d-aa6a-1f36b0d25d2b' class='xr-section-summary-in' type='checkbox' disabled ><label for='section-062d8f9a-1fce-415d-aa6a-1f36b0d25d2b' class='xr-section-summary'  title='Expand/collapse section'>Dimensions:</label><div class='xr-section-inline-details'><ul class='xr-dim-list'><li><span class='xr-has-index'>DEPTH</span>: 19</li><li><span class='xr-has-index'>LATITUDE</span>: 100</li><li><span class='xr-has-index'>LONGITUDE</span>: 100</li><li><span>bnds</span>: 2</li></ul></div><div class='xr-section-details'></div></li><li class='xr-section-item'><input id='section-d076882d-49e9-4381-975f-72e68d20d0ec' class='xr-section-summary-in' type='checkbox'  checked><label for='section-d076882d-49e9-4381-975f-72e68d20d0ec' class='xr-section-summary' >Coordinates: <span>(3)</span></label><div class='xr-section-inline-details'></div><div class='xr-section-details'><ul class='xr-var-list'><li class='xr-var-item'><div class='xr-var-name'><span class='xr-has-index'>LONGITUDE</span></div><div class='xr-var-dims'>(LONGITUDE)</div><div class='xr-var-dtype'>float64</div><div class='xr-var-preview xr-preview'>1.8 5.4 9.0 ... 351.0 354.6 358.2</div><input id='attrs-e04eeca2-2e41-49b4-b92d-ebbd8e282e18' class='xr-var-attrs-in' type='checkbox' ><label for='attrs-e04eeca2-2e41-49b4-b92d-ebbd8e282e18' title='Show/Hide attributes'><svg class='icon xr-icon-file-text2'><use xlink:href='#icon-file-text2'></use></svg></label><input id='data-d6939aca-9152-4676-8c34-8fbd6ecbd1cc' class='xr-var-data-in' type='checkbox'><label for='data-d6939aca-9152-4676-8c34-8fbd6ecbd1cc' title='Show/Hide data repr'><svg class='icon xr-icon-database'><use xlink:href='#icon-database'></use></svg></label><div class='xr-var-attrs'><dl class='xr-attrs'><dt><span>units :</span></dt><dd>degrees_east</dd><dt><span>modulo :</span></dt><dd>360.0</dd><dt><span>point_spacing :</span></dt><dd>uneven</dd><dt><span>axis :</span></dt><dd>X</dd><dt><span>standard_name :</span></dt><dd>longitude</dd><dt><span>bounds :</span></dt><dd>LONGITUDE_bnds</dd></dl></div><pre class='xr-var-data'>array([  1.8     ,   5.4     ,   9.      ,  12.6     ,  16.200001,  19.799999,\n",
       "        23.4     ,  27.      ,  30.6     ,  34.200001,  37.799999,  41.400002,\n",
       "        45.      ,  48.599998,  52.200001,  55.799999,  59.400002,  63.      ,\n",
       "        66.599998,  70.199997,  73.800003,  77.400002,  81.      ,  84.599998,\n",
       "        88.199997,  91.800003,  95.400002,  99.      , 102.599998, 106.199997,\n",
       "       109.800003, 113.400002, 117.      , 120.599998, 124.199997, 127.800003,\n",
       "       131.399994, 135.      , 138.600006, 142.199997, 145.800003, 149.399994,\n",
       "       153.      , 156.600006, 160.199997, 163.800003, 167.399994, 171.      ,\n",
       "       174.600006, 178.199997, 181.800003, 185.399994, 189.      , 192.600006,\n",
       "       196.199997, 199.800003, 203.399994, 207.      , 210.600006, 214.199997,\n",
       "       217.800003, 221.399994, 225.      , 228.600006, 232.199997, 235.800003,\n",
       "       239.399994, 243.      , 246.600006, 250.199997, 253.800003, 257.399994,\n",
       "       261.      , 264.600006, 268.200012, 271.799988, 275.399994, 279.      ,\n",
       "       282.600006, 286.200012, 289.799988, 293.399994, 297.      , 300.600006,\n",
       "       304.200012, 307.799988, 311.399994, 315.      , 318.600006, 322.200012,\n",
       "       325.799988, 329.399994, 333.      , 336.600006, 340.200012, 343.799988,\n",
       "       347.399994, 351.      , 354.600006, 358.200012])</pre></li><li class='xr-var-item'><div class='xr-var-name'><span class='xr-has-index'>LATITUDE</span></div><div class='xr-var-dims'>(LATITUDE)</div><div class='xr-var-dtype'>float64</div><div class='xr-var-preview xr-preview'>-89.1 -87.3 -85.5 ... 87.3 89.1</div><input id='attrs-d7a0a18d-7d18-47af-b443-4e31426b0e3c' class='xr-var-attrs-in' type='checkbox' ><label for='attrs-d7a0a18d-7d18-47af-b443-4e31426b0e3c' title='Show/Hide attributes'><svg class='icon xr-icon-file-text2'><use xlink:href='#icon-file-text2'></use></svg></label><input id='data-7f8aaf8f-ef21-4a66-940a-a7e0fa0e0d98' class='xr-var-data-in' type='checkbox'><label for='data-7f8aaf8f-ef21-4a66-940a-a7e0fa0e0d98' title='Show/Hide data repr'><svg class='icon xr-icon-database'><use xlink:href='#icon-database'></use></svg></label><div class='xr-var-attrs'><dl class='xr-attrs'><dt><span>units :</span></dt><dd>degrees_north</dd><dt><span>point_spacing :</span></dt><dd>uneven</dd><dt><span>axis :</span></dt><dd>Y</dd><dt><span>standard_name :</span></dt><dd>latitude</dd><dt><span>bounds :</span></dt><dd>LATITUDE_bnds</dd></dl></div><pre class='xr-var-data'>array([-89.099998, -87.300003, -85.5     , -83.699997, -81.900002, -80.099998,\n",
       "       -78.300003, -76.5     , -74.699997, -72.900002, -71.099998, -69.300003,\n",
       "       -67.5     , -65.699997, -63.900002, -62.099998, -60.299999, -58.5     ,\n",
       "       -56.700001, -54.900002, -53.099998, -51.299999, -49.5     , -47.700001,\n",
       "       -45.900002, -44.099998, -42.299999, -40.5     , -38.700001, -36.900002,\n",
       "       -35.099998, -33.299999, -31.5     , -29.700001, -27.9     , -26.1     ,\n",
       "       -24.299999, -22.5     , -20.700001, -18.9     , -17.1     , -15.3     ,\n",
       "       -13.5     , -11.7     ,  -9.9     ,  -8.1     ,  -6.3     ,  -4.5     ,\n",
       "        -2.7     ,  -0.9     ,   0.9     ,   2.7     ,   4.5     ,   6.3     ,\n",
       "         8.1     ,   9.9     ,  11.7     ,  13.5     ,  15.3     ,  17.1     ,\n",
       "        18.9     ,  20.700001,  22.5     ,  24.299999,  26.1     ,  27.9     ,\n",
       "        29.700001,  31.5     ,  33.299999,  35.099998,  36.900002,  38.700001,\n",
       "        40.5     ,  42.299999,  44.099998,  45.900002,  47.700001,  49.5     ,\n",
       "        51.299999,  53.099998,  54.900002,  56.700001,  58.5     ,  60.299999,\n",
       "        62.099998,  63.900002,  65.699997,  67.5     ,  69.300003,  71.099998,\n",
       "        72.900002,  74.699997,  76.5     ,  78.300003,  80.099998,  81.900002,\n",
       "        83.699997,  85.5     ,  87.300003,  89.099998])</pre></li><li class='xr-var-item'><div class='xr-var-name'><span class='xr-has-index'>DEPTH</span></div><div class='xr-var-dims'>(DEPTH)</div><div class='xr-var-dtype'>float64</div><div class='xr-var-preview xr-preview'>17.5 82.5 ... 5.202e+03 5.778e+03</div><input id='attrs-ab49644f-51cb-4e13-a4c6-ba76ade9c4be' class='xr-var-attrs-in' type='checkbox' ><label for='attrs-ab49644f-51cb-4e13-a4c6-ba76ade9c4be' title='Show/Hide attributes'><svg class='icon xr-icon-file-text2'><use xlink:href='#icon-file-text2'></use></svg></label><input id='data-e4b93325-bab4-4032-9b4f-d4da343cb5c8' class='xr-var-data-in' type='checkbox'><label for='data-e4b93325-bab4-4032-9b4f-d4da343cb5c8' title='Show/Hide data repr'><svg class='icon xr-icon-database'><use xlink:href='#icon-database'></use></svg></label><div class='xr-var-attrs'><dl class='xr-attrs'><dt><span>long_name :</span></dt><dd>depth</dd><dt><span>units :</span></dt><dd>m</dd><dt><span>positive :</span></dt><dd>down</dd><dt><span>point_spacing :</span></dt><dd>uneven</dd><dt><span>axis :</span></dt><dd>Z</dd><dt><span>standard_name :</span></dt><dd>depth</dd><dt><span>bounds :</span></dt><dd>DEPTH_bnds</dd></dl></div><pre class='xr-var-data'>array([  17.5,   82.5,  177.5,  302.5,  457.5,  642.5,  857.5, 1102.5, 1377.5,\n",
       "       1682.5, 2017.5, 2382.5, 2777.5, 3202.5, 3657.5, 4142.5, 4657.5, 5202.5,\n",
       "       5777.5])</pre></li></ul></div></li><li class='xr-section-item'><input id='section-a5b6a3ef-bee4-4fa9-bc0a-18be9925db71' class='xr-section-summary-in' type='checkbox'  checked><label for='section-a5b6a3ef-bee4-4fa9-bc0a-18be9925db71' class='xr-section-summary' >Data variables: <span>(7)</span></label><div class='xr-section-inline-details'></div><div class='xr-section-details'><ul class='xr-var-list'><li class='xr-var-item'><div class='xr-var-name'><span>LONGITUDE_bnds</span></div><div class='xr-var-dims'>(LONGITUDE, bnds)</div><div class='xr-var-dtype'>float64</div><div class='xr-var-preview xr-preview'>...</div><input id='attrs-0aba5213-0942-4e53-b4c6-f44ed04f4382' class='xr-var-attrs-in' type='checkbox' disabled><label for='attrs-0aba5213-0942-4e53-b4c6-f44ed04f4382' title='Show/Hide attributes'><svg class='icon xr-icon-file-text2'><use xlink:href='#icon-file-text2'></use></svg></label><input id='data-c14ceeb5-95e3-4b98-af39-f00df3505ab9' class='xr-var-data-in' type='checkbox'><label for='data-c14ceeb5-95e3-4b98-af39-f00df3505ab9' title='Show/Hide data repr'><svg class='icon xr-icon-database'><use xlink:href='#icon-database'></use></svg></label><div class='xr-var-attrs'><dl class='xr-attrs'></dl></div><pre class='xr-var-data'>array([[-1.136868e-13,  3.600000e+00],\n",
       "       [ 3.600000e+00,  7.200000e+00],\n",
       "       [ 7.200000e+00,  1.080000e+01],\n",
       "       [ 1.080000e+01,  1.440000e+01],\n",
       "       [ 1.440000e+01,  1.800000e+01],\n",
       "       [ 1.800000e+01,  2.160000e+01],\n",
       "       [ 2.160000e+01,  2.520000e+01],\n",
       "       [ 2.520000e+01,  2.880000e+01],\n",
       "       [ 2.880000e+01,  3.240000e+01],\n",
       "       [ 3.240000e+01,  3.600000e+01],\n",
       "       [ 3.600000e+01,  3.960000e+01],\n",
       "       [ 3.960000e+01,  4.320000e+01],\n",
       "       [ 4.320000e+01,  4.680000e+01],\n",
       "       [ 4.680000e+01,  5.040000e+01],\n",
       "       [ 5.040000e+01,  5.400000e+01],\n",
       "       [ 5.400000e+01,  5.760000e+01],\n",
       "       [ 5.760000e+01,  6.120000e+01],\n",
       "       [ 6.120000e+01,  6.480000e+01],\n",
       "       [ 6.480000e+01,  6.840000e+01],\n",
       "       [ 6.840000e+01,  7.200000e+01],\n",
       "       [ 7.200000e+01,  7.560000e+01],\n",
       "       [ 7.560000e+01,  7.920000e+01],\n",
       "       [ 7.920000e+01,  8.280000e+01],\n",
       "       [ 8.280000e+01,  8.640000e+01],\n",
       "       [ 8.640000e+01,  9.000000e+01],\n",
       "       [ 9.000000e+01,  9.360000e+01],\n",
       "       [ 9.360000e+01,  9.720000e+01],\n",
       "       [ 9.720000e+01,  1.008000e+02],\n",
       "       [ 1.008000e+02,  1.044000e+02],\n",
       "       [ 1.044000e+02,  1.080000e+02],\n",
       "       [ 1.080000e+02,  1.116000e+02],\n",
       "       [ 1.116000e+02,  1.152000e+02],\n",
       "       [ 1.152000e+02,  1.188000e+02],\n",
       "       [ 1.188000e+02,  1.224000e+02],\n",
       "       [ 1.224000e+02,  1.260000e+02],\n",
       "       [ 1.260000e+02,  1.296000e+02],\n",
       "       [ 1.296000e+02,  1.332000e+02],\n",
       "       [ 1.332000e+02,  1.368000e+02],\n",
       "       [ 1.368000e+02,  1.404000e+02],\n",
       "       [ 1.404000e+02,  1.440000e+02],\n",
       "       [ 1.440000e+02,  1.476000e+02],\n",
       "       [ 1.476000e+02,  1.512000e+02],\n",
       "       [ 1.512000e+02,  1.548000e+02],\n",
       "       [ 1.548000e+02,  1.584000e+02],\n",
       "       [ 1.584000e+02,  1.620000e+02],\n",
       "       [ 1.620000e+02,  1.656000e+02],\n",
       "       [ 1.656000e+02,  1.692000e+02],\n",
       "       [ 1.692000e+02,  1.728000e+02],\n",
       "       [ 1.728000e+02,  1.764000e+02],\n",
       "       [ 1.764000e+02,  1.800000e+02],\n",
       "       [ 1.800000e+02,  1.836000e+02],\n",
       "       [ 1.836000e+02,  1.872000e+02],\n",
       "       [ 1.872000e+02,  1.908000e+02],\n",
       "       [ 1.908000e+02,  1.944000e+02],\n",
       "       [ 1.944000e+02,  1.980000e+02],\n",
       "       [ 1.980000e+02,  2.016000e+02],\n",
       "       [ 2.016000e+02,  2.052000e+02],\n",
       "       [ 2.052000e+02,  2.088000e+02],\n",
       "       [ 2.088000e+02,  2.124000e+02],\n",
       "       [ 2.124000e+02,  2.160000e+02],\n",
       "       [ 2.160000e+02,  2.196000e+02],\n",
       "       [ 2.196000e+02,  2.232000e+02],\n",
       "       [ 2.232000e+02,  2.268000e+02],\n",
       "       [ 2.268000e+02,  2.304000e+02],\n",
       "       [ 2.304000e+02,  2.340000e+02],\n",
       "       [ 2.340000e+02,  2.376000e+02],\n",
       "       [ 2.376000e+02,  2.412000e+02],\n",
       "       [ 2.412000e+02,  2.448000e+02],\n",
       "       [ 2.448000e+02,  2.484000e+02],\n",
       "       [ 2.484000e+02,  2.520000e+02],\n",
       "       [ 2.520000e+02,  2.556000e+02],\n",
       "       [ 2.556000e+02,  2.592000e+02],\n",
       "       [ 2.592000e+02,  2.628000e+02],\n",
       "       [ 2.628000e+02,  2.664000e+02],\n",
       "       [ 2.664000e+02,  2.700000e+02],\n",
       "       [ 2.700000e+02,  2.736000e+02],\n",
       "       [ 2.736000e+02,  2.772000e+02],\n",
       "       [ 2.772000e+02,  2.808000e+02],\n",
       "       [ 2.808000e+02,  2.844000e+02],\n",
       "       [ 2.844000e+02,  2.880000e+02],\n",
       "       [ 2.880000e+02,  2.916000e+02],\n",
       "       [ 2.916000e+02,  2.952000e+02],\n",
       "       [ 2.952000e+02,  2.988000e+02],\n",
       "       [ 2.988000e+02,  3.024000e+02],\n",
       "       [ 3.024000e+02,  3.060000e+02],\n",
       "       [ 3.060000e+02,  3.096000e+02],\n",
       "       [ 3.096000e+02,  3.132000e+02],\n",
       "       [ 3.132000e+02,  3.168000e+02],\n",
       "       [ 3.168000e+02,  3.204000e+02],\n",
       "       [ 3.204000e+02,  3.240000e+02],\n",
       "       [ 3.240000e+02,  3.276000e+02],\n",
       "       [ 3.276000e+02,  3.312000e+02],\n",
       "       [ 3.312000e+02,  3.348000e+02],\n",
       "       [ 3.348000e+02,  3.384000e+02],\n",
       "       [ 3.384000e+02,  3.420000e+02],\n",
       "       [ 3.420000e+02,  3.456000e+02],\n",
       "       [ 3.456000e+02,  3.492000e+02],\n",
       "       [ 3.492000e+02,  3.528000e+02],\n",
       "       [ 3.528000e+02,  3.564000e+02],\n",
       "       [ 3.564000e+02,  3.600000e+02]])</pre></li><li class='xr-var-item'><div class='xr-var-name'><span>LATITUDE_bnds</span></div><div class='xr-var-dims'>(LATITUDE, bnds)</div><div class='xr-var-dtype'>float64</div><div class='xr-var-preview xr-preview'>...</div><input id='attrs-e3acd274-c154-4322-b9ba-07520e56f90a' class='xr-var-attrs-in' type='checkbox' disabled><label for='attrs-e3acd274-c154-4322-b9ba-07520e56f90a' title='Show/Hide attributes'><svg class='icon xr-icon-file-text2'><use xlink:href='#icon-file-text2'></use></svg></label><input id='data-36a8d454-c0ef-45cc-8f97-b43f039a8b27' class='xr-var-data-in' type='checkbox'><label for='data-36a8d454-c0ef-45cc-8f97-b43f039a8b27' title='Show/Hide data repr'><svg class='icon xr-icon-database'><use xlink:href='#icon-database'></use></svg></label><div class='xr-var-attrs'><dl class='xr-attrs'></dl></div><pre class='xr-var-data'>array([[-9.000000e+01, -8.820000e+01],\n",
       "       [-8.820000e+01, -8.640000e+01],\n",
       "       [-8.640000e+01, -8.460000e+01],\n",
       "       [-8.460000e+01, -8.280000e+01],\n",
       "       [-8.280000e+01, -8.100000e+01],\n",
       "       [-8.100000e+01, -7.920000e+01],\n",
       "       [-7.920000e+01, -7.740000e+01],\n",
       "       [-7.740000e+01, -7.560000e+01],\n",
       "       [-7.560000e+01, -7.380000e+01],\n",
       "       [-7.380000e+01, -7.200000e+01],\n",
       "       [-7.200000e+01, -7.020000e+01],\n",
       "       [-7.020000e+01, -6.840000e+01],\n",
       "       [-6.840000e+01, -6.660000e+01],\n",
       "       [-6.660000e+01, -6.480000e+01],\n",
       "       [-6.480000e+01, -6.300000e+01],\n",
       "       [-6.300000e+01, -6.120000e+01],\n",
       "       [-6.120000e+01, -5.940000e+01],\n",
       "       [-5.940000e+01, -5.760000e+01],\n",
       "       [-5.760000e+01, -5.580000e+01],\n",
       "       [-5.580000e+01, -5.400000e+01],\n",
       "       [-5.400000e+01, -5.220000e+01],\n",
       "       [-5.220000e+01, -5.040000e+01],\n",
       "       [-5.040000e+01, -4.860000e+01],\n",
       "       [-4.860000e+01, -4.680000e+01],\n",
       "       [-4.680000e+01, -4.500000e+01],\n",
       "       [-4.500000e+01, -4.320000e+01],\n",
       "       [-4.320000e+01, -4.140000e+01],\n",
       "       [-4.140000e+01, -3.960000e+01],\n",
       "       [-3.960000e+01, -3.780000e+01],\n",
       "       [-3.780000e+01, -3.600000e+01],\n",
       "       [-3.600000e+01, -3.420000e+01],\n",
       "       [-3.420000e+01, -3.240000e+01],\n",
       "       [-3.240000e+01, -3.060000e+01],\n",
       "       [-3.060000e+01, -2.880000e+01],\n",
       "       [-2.880000e+01, -2.700000e+01],\n",
       "       [-2.700000e+01, -2.520000e+01],\n",
       "       [-2.520000e+01, -2.340000e+01],\n",
       "       [-2.340000e+01, -2.160000e+01],\n",
       "       [-2.160000e+01, -1.980000e+01],\n",
       "       [-1.980000e+01, -1.800000e+01],\n",
       "       [-1.800000e+01, -1.620000e+01],\n",
       "       [-1.620000e+01, -1.440000e+01],\n",
       "       [-1.440000e+01, -1.260000e+01],\n",
       "       [-1.260000e+01, -1.080000e+01],\n",
       "       [-1.080000e+01, -9.000000e+00],\n",
       "       [-9.000000e+00, -7.200000e+00],\n",
       "       [-7.200000e+00, -5.400000e+00],\n",
       "       [-5.400000e+00, -3.600000e+00],\n",
       "       [-3.600000e+00, -1.800000e+00],\n",
       "       [-1.800000e+00,  1.521006e-14],\n",
       "       [ 1.521006e-14,  1.800000e+00],\n",
       "       [ 1.800000e+00,  3.600000e+00],\n",
       "       [ 3.600000e+00,  5.400000e+00],\n",
       "       [ 5.400000e+00,  7.200000e+00],\n",
       "       [ 7.200000e+00,  9.000000e+00],\n",
       "       [ 9.000000e+00,  1.080000e+01],\n",
       "       [ 1.080000e+01,  1.260000e+01],\n",
       "       [ 1.260000e+01,  1.440000e+01],\n",
       "       [ 1.440000e+01,  1.620000e+01],\n",
       "       [ 1.620000e+01,  1.800000e+01],\n",
       "       [ 1.800000e+01,  1.980000e+01],\n",
       "       [ 1.980000e+01,  2.160000e+01],\n",
       "       [ 2.160000e+01,  2.340000e+01],\n",
       "       [ 2.340000e+01,  2.520000e+01],\n",
       "       [ 2.520000e+01,  2.700000e+01],\n",
       "       [ 2.700000e+01,  2.880000e+01],\n",
       "       [ 2.880000e+01,  3.060000e+01],\n",
       "       [ 3.060000e+01,  3.240000e+01],\n",
       "       [ 3.240000e+01,  3.420000e+01],\n",
       "       [ 3.420000e+01,  3.600000e+01],\n",
       "       [ 3.600000e+01,  3.780000e+01],\n",
       "       [ 3.780000e+01,  3.960000e+01],\n",
       "       [ 3.960000e+01,  4.140000e+01],\n",
       "       [ 4.140000e+01,  4.320000e+01],\n",
       "       [ 4.320000e+01,  4.500000e+01],\n",
       "       [ 4.500000e+01,  4.680000e+01],\n",
       "       [ 4.680000e+01,  4.860000e+01],\n",
       "       [ 4.860000e+01,  5.040000e+01],\n",
       "       [ 5.040000e+01,  5.220000e+01],\n",
       "       [ 5.220000e+01,  5.400000e+01],\n",
       "       [ 5.400000e+01,  5.580000e+01],\n",
       "       [ 5.580000e+01,  5.760000e+01],\n",
       "       [ 5.760000e+01,  5.940000e+01],\n",
       "       [ 5.940000e+01,  6.120000e+01],\n",
       "       [ 6.120000e+01,  6.300000e+01],\n",
       "       [ 6.300000e+01,  6.480000e+01],\n",
       "       [ 6.480000e+01,  6.660000e+01],\n",
       "       [ 6.660000e+01,  6.840000e+01],\n",
       "       [ 6.840000e+01,  7.020000e+01],\n",
       "       [ 7.020000e+01,  7.200000e+01],\n",
       "       [ 7.200000e+01,  7.380000e+01],\n",
       "       [ 7.380000e+01,  7.560000e+01],\n",
       "       [ 7.560000e+01,  7.740000e+01],\n",
       "       [ 7.740000e+01,  7.920000e+01],\n",
       "       [ 7.920000e+01,  8.100000e+01],\n",
       "       [ 8.100000e+01,  8.280000e+01],\n",
       "       [ 8.280000e+01,  8.460000e+01],\n",
       "       [ 8.460000e+01,  8.640000e+01],\n",
       "       [ 8.640000e+01,  8.820000e+01],\n",
       "       [ 8.820000e+01,  9.000000e+01]])</pre></li><li class='xr-var-item'><div class='xr-var-name'><span>DEPTH_bnds</span></div><div class='xr-var-dims'>(DEPTH, bnds)</div><div class='xr-var-dtype'>float64</div><div class='xr-var-preview xr-preview'>...</div><input id='attrs-183291d3-11df-409f-908b-6fe8735b8b19' class='xr-var-attrs-in' type='checkbox' disabled><label for='attrs-183291d3-11df-409f-908b-6fe8735b8b19' title='Show/Hide attributes'><svg class='icon xr-icon-file-text2'><use xlink:href='#icon-file-text2'></use></svg></label><input id='data-ce1befc6-5f87-4ecd-b19b-d10e4a5b50f7' class='xr-var-data-in' type='checkbox'><label for='data-ce1befc6-5f87-4ecd-b19b-d10e4a5b50f7' title='Show/Hide data repr'><svg class='icon xr-icon-database'><use xlink:href='#icon-database'></use></svg></label><div class='xr-var-attrs'><dl class='xr-attrs'></dl></div><pre class='xr-var-data'>array([[   0.,   50.],\n",
       "       [  50.,  130.],\n",
       "       [ 130.,  240.],\n",
       "       [ 240.,  380.],\n",
       "       [ 380.,  550.],\n",
       "       [ 550.,  750.],\n",
       "       [ 750.,  980.],\n",
       "       [ 980., 1240.],\n",
       "       [1240., 1530.],\n",
       "       [1530., 1850.],\n",
       "       [1850., 2200.],\n",
       "       [2200., 2580.],\n",
       "       [2580., 2990.],\n",
       "       [2990., 3430.],\n",
       "       [3430., 3900.],\n",
       "       [3900., 4400.],\n",
       "       [4400., 4930.],\n",
       "       [4930., 5490.],\n",
       "       [5490., 6080.]])</pre></li><li class='xr-var-item'><div class='xr-var-name'><span>END_D_OBS</span></div><div class='xr-var-dims'>(DEPTH, LATITUDE, LONGITUDE)</div><div class='xr-var-dtype'>float64</div><div class='xr-var-preview xr-preview'>...</div><input id='attrs-0dde6934-f6ad-4026-9744-c01128dfed05' class='xr-var-attrs-in' type='checkbox' ><label for='attrs-0dde6934-f6ad-4026-9744-c01128dfed05' title='Show/Hide attributes'><svg class='icon xr-icon-file-text2'><use xlink:href='#icon-file-text2'></use></svg></label><input id='data-57d62521-5147-4359-b048-8ee83ce92817' class='xr-var-data-in' type='checkbox'><label for='data-57d62521-5147-4359-b048-8ee83ce92817' title='Show/Hide data repr'><svg class='icon xr-icon-database'><use xlink:href='#icon-database'></use></svg></label><div class='xr-var-attrs'><dl class='xr-attrs'><dt><span>long_name :</span></dt><dd>Observed dissolved  eNd data</dd><dt><span>units :</span></dt><dd>pmol/kg</dd><dt><span>history :</span></dt><dd>From GeoTRACERSdata.csv</dd></dl></div><pre class='xr-var-data'>[190000 values with dtype=float64]</pre></li><li class='xr-var-item'><div class='xr-var-name'><span>END_P_OBS</span></div><div class='xr-var-dims'>(DEPTH, LATITUDE, LONGITUDE)</div><div class='xr-var-dtype'>float64</div><div class='xr-var-preview xr-preview'>...</div><input id='attrs-2a24756e-33b1-49ae-bd29-66dd86a988d6' class='xr-var-attrs-in' type='checkbox' ><label for='attrs-2a24756e-33b1-49ae-bd29-66dd86a988d6' title='Show/Hide attributes'><svg class='icon xr-icon-file-text2'><use xlink:href='#icon-file-text2'></use></svg></label><input id='data-07d4d0f4-c32c-4616-b9f8-33b1cab3e39b' class='xr-var-data-in' type='checkbox'><label for='data-07d4d0f4-c32c-4616-b9f8-33b1cab3e39b' title='Show/Hide data repr'><svg class='icon xr-icon-database'><use xlink:href='#icon-database'></use></svg></label><div class='xr-var-attrs'><dl class='xr-attrs'><dt><span>long_name :</span></dt><dd>Observed particulate eNd data</dd><dt><span>units :</span></dt><dd>pmol/kg</dd><dt><span>history :</span></dt><dd>From GeoTRACERSdata.csv</dd></dl></div><pre class='xr-var-data'>[190000 values with dtype=float64]</pre></li><li class='xr-var-item'><div class='xr-var-name'><span>ND_D_OBS</span></div><div class='xr-var-dims'>(DEPTH, LATITUDE, LONGITUDE)</div><div class='xr-var-dtype'>float64</div><div class='xr-var-preview xr-preview'>...</div><input id='attrs-9f2c1cdd-6cd4-4df1-a719-2da54b073999' class='xr-var-attrs-in' type='checkbox' ><label for='attrs-9f2c1cdd-6cd4-4df1-a719-2da54b073999' title='Show/Hide attributes'><svg class='icon xr-icon-file-text2'><use xlink:href='#icon-file-text2'></use></svg></label><input id='data-6eeea947-b80d-430f-bed7-ed624cdd9eef' class='xr-var-data-in' type='checkbox'><label for='data-6eeea947-b80d-430f-bed7-ed624cdd9eef' title='Show/Hide data repr'><svg class='icon xr-icon-database'><use xlink:href='#icon-database'></use></svg></label><div class='xr-var-attrs'><dl class='xr-attrs'><dt><span>long_name :</span></dt><dd>Observed dissolved  Nd data</dd><dt><span>units :</span></dt><dd>pmol/kg</dd><dt><span>history :</span></dt><dd>From GeoTRACERSdata.csv</dd></dl></div><pre class='xr-var-data'>[190000 values with dtype=float64]</pre></li><li class='xr-var-item'><div class='xr-var-name'><span>ND_P_OBS</span></div><div class='xr-var-dims'>(DEPTH, LATITUDE, LONGITUDE)</div><div class='xr-var-dtype'>float64</div><div class='xr-var-preview xr-preview'>...</div><input id='attrs-4f40caa7-54be-4296-87ed-f43a83d64384' class='xr-var-attrs-in' type='checkbox' ><label for='attrs-4f40caa7-54be-4296-87ed-f43a83d64384' title='Show/Hide attributes'><svg class='icon xr-icon-file-text2'><use xlink:href='#icon-file-text2'></use></svg></label><input id='data-71dfefae-4673-4ce3-ad1e-a2dafd4542d2' class='xr-var-data-in' type='checkbox'><label for='data-71dfefae-4673-4ce3-ad1e-a2dafd4542d2' title='Show/Hide data repr'><svg class='icon xr-icon-database'><use xlink:href='#icon-database'></use></svg></label><div class='xr-var-attrs'><dl class='xr-attrs'><dt><span>long_name :</span></dt><dd>Observed particulate Nd data</dd><dt><span>units :</span></dt><dd>pmol/kg</dd><dt><span>history :</span></dt><dd>From GeoTRACERSdata.csv</dd></dl></div><pre class='xr-var-data'>[190000 values with dtype=float64]</pre></li></ul></div></li><li class='xr-section-item'><input id='section-ce54f2a0-6821-4877-88de-a97d7d0ce171' class='xr-section-summary-in' type='checkbox'  checked><label for='section-ce54f2a0-6821-4877-88de-a97d7d0ce171' class='xr-section-summary' >Attributes: <span>(2)</span></label><div class='xr-section-inline-details'></div><div class='xr-section-details'><dl class='xr-attrs'><dt><span>history :</span></dt><dd>PyPyFerret V7.5 (optimized) 18-Aug-22</dd><dt><span>Conventions :</span></dt><dd>CF-1.6</dd></dl></div></li></ul></div></div>"
      ],
      "text/plain": [
       "<xarray.Dataset>\n",
       "Dimensions:         (DEPTH: 19, LATITUDE: 100, LONGITUDE: 100, bnds: 2)\n",
       "Coordinates:\n",
       "  * LONGITUDE       (LONGITUDE) float64 1.8 5.4 9.0 12.6 ... 351.0 354.6 358.2\n",
       "  * LATITUDE        (LATITUDE) float64 -89.1 -87.3 -85.5 ... 85.5 87.3 89.1\n",
       "  * DEPTH           (DEPTH) float64 17.5 82.5 177.5 ... 5.202e+03 5.778e+03\n",
       "Dimensions without coordinates: bnds\n",
       "Data variables:\n",
       "    LONGITUDE_bnds  (LONGITUDE, bnds) float64 ...\n",
       "    LATITUDE_bnds   (LATITUDE, bnds) float64 ...\n",
       "    DEPTH_bnds      (DEPTH, bnds) float64 ...\n",
       "    END_D_OBS       (DEPTH, LATITUDE, LONGITUDE) float64 ...\n",
       "    END_P_OBS       (DEPTH, LATITUDE, LONGITUDE) float64 ...\n",
       "    ND_D_OBS        (DEPTH, LATITUDE, LONGITUDE) float64 ...\n",
       "    ND_P_OBS        (DEPTH, LATITUDE, LONGITUDE) float64 ...\n",
       "Attributes:\n",
       "    history:      PyPyFerret V7.5 (optimized) 18-Aug-22\n",
       "    Conventions:  CF-1.6"
      ]
     },
     "execution_count": 40,
     "metadata": {},
     "output_type": "execute_result"
    }
   ],
   "source": [
    "GEOTRACERS_ds"
   ]
  },
  {
   "cell_type": "code",
   "execution_count": 41,
   "metadata": {},
   "outputs": [],
   "source": [
    "o_dnd=UVIC10000yr_ds.O_dnd\n",
    "o_pnd=GEOTRACERS_ds.ND_P_OBS\n",
    "o_dnd_ave=o_dnd.mean(dim=['latitude','longitude'])\n",
    "o_pnd_ave=o_pnd.mean(dim=['LATITUDE','LONGITUDE'])"
   ]
  },
  {
   "cell_type": "code",
   "execution_count": 42,
   "metadata": {},
   "outputs": [
    {
     "data": {
      "text/html": [
       "<div><svg style=\"position: absolute; width: 0; height: 0; overflow: hidden\">\n",
       "<defs>\n",
       "<symbol id=\"icon-database\" viewBox=\"0 0 32 32\">\n",
       "<title>Show/Hide data repr</title>\n",
       "<path d=\"M16 0c-8.837 0-16 2.239-16 5v4c0 2.761 7.163 5 16 5s16-2.239 16-5v-4c0-2.761-7.163-5-16-5z\"></path>\n",
       "<path d=\"M16 17c-8.837 0-16-2.239-16-5v6c0 2.761 7.163 5 16 5s16-2.239 16-5v-6c0 2.761-7.163 5-16 5z\"></path>\n",
       "<path d=\"M16 26c-8.837 0-16-2.239-16-5v6c0 2.761 7.163 5 16 5s16-2.239 16-5v-6c0 2.761-7.163 5-16 5z\"></path>\n",
       "</symbol>\n",
       "<symbol id=\"icon-file-text2\" viewBox=\"0 0 32 32\">\n",
       "<title>Show/Hide attributes</title>\n",
       "<path d=\"M28.681 7.159c-0.694-0.947-1.662-2.053-2.724-3.116s-2.169-2.030-3.116-2.724c-1.612-1.182-2.393-1.319-2.841-1.319h-15.5c-1.378 0-2.5 1.121-2.5 2.5v27c0 1.378 1.122 2.5 2.5 2.5h23c1.378 0 2.5-1.122 2.5-2.5v-19.5c0-0.448-0.137-1.23-1.319-2.841zM24.543 5.457c0.959 0.959 1.712 1.825 2.268 2.543h-4.811v-4.811c0.718 0.556 1.584 1.309 2.543 2.268zM28 29.5c0 0.271-0.229 0.5-0.5 0.5h-23c-0.271 0-0.5-0.229-0.5-0.5v-27c0-0.271 0.229-0.5 0.5-0.5 0 0 15.499-0 15.5 0v7c0 0.552 0.448 1 1 1h7v19.5z\"></path>\n",
       "<path d=\"M23 26h-14c-0.552 0-1-0.448-1-1s0.448-1 1-1h14c0.552 0 1 0.448 1 1s-0.448 1-1 1z\"></path>\n",
       "<path d=\"M23 22h-14c-0.552 0-1-0.448-1-1s0.448-1 1-1h14c0.552 0 1 0.448 1 1s-0.448 1-1 1z\"></path>\n",
       "<path d=\"M23 18h-14c-0.552 0-1-0.448-1-1s0.448-1 1-1h14c0.552 0 1 0.448 1 1s-0.448 1-1 1z\"></path>\n",
       "</symbol>\n",
       "</defs>\n",
       "</svg>\n",
       "<style>/* CSS stylesheet for displaying xarray objects in jupyterlab.\n",
       " *\n",
       " */\n",
       "\n",
       ":root {\n",
       "  --xr-font-color0: var(--jp-content-font-color0, rgba(0, 0, 0, 1));\n",
       "  --xr-font-color2: var(--jp-content-font-color2, rgba(0, 0, 0, 0.54));\n",
       "  --xr-font-color3: var(--jp-content-font-color3, rgba(0, 0, 0, 0.38));\n",
       "  --xr-border-color: var(--jp-border-color2, #e0e0e0);\n",
       "  --xr-disabled-color: var(--jp-layout-color3, #bdbdbd);\n",
       "  --xr-background-color: var(--jp-layout-color0, white);\n",
       "  --xr-background-color-row-even: var(--jp-layout-color1, white);\n",
       "  --xr-background-color-row-odd: var(--jp-layout-color2, #eeeeee);\n",
       "}\n",
       "\n",
       ".xr-wrap {\n",
       "  min-width: 300px;\n",
       "  max-width: 700px;\n",
       "}\n",
       "\n",
       ".xr-header {\n",
       "  padding-top: 6px;\n",
       "  padding-bottom: 6px;\n",
       "  margin-bottom: 4px;\n",
       "  border-bottom: solid 1px var(--xr-border-color);\n",
       "}\n",
       "\n",
       ".xr-header > div,\n",
       ".xr-header > ul {\n",
       "  display: inline;\n",
       "  margin-top: 0;\n",
       "  margin-bottom: 0;\n",
       "}\n",
       "\n",
       ".xr-obj-type,\n",
       ".xr-array-name {\n",
       "  margin-left: 2px;\n",
       "  margin-right: 10px;\n",
       "}\n",
       "\n",
       ".xr-obj-type {\n",
       "  color: var(--xr-font-color2);\n",
       "}\n",
       "\n",
       ".xr-sections {\n",
       "  padding-left: 0 !important;\n",
       "  display: grid;\n",
       "  grid-template-columns: 150px auto auto 1fr 20px 20px;\n",
       "}\n",
       "\n",
       ".xr-section-item {\n",
       "  display: contents;\n",
       "}\n",
       "\n",
       ".xr-section-item input {\n",
       "  display: none;\n",
       "}\n",
       "\n",
       ".xr-section-item input + label {\n",
       "  color: var(--xr-disabled-color);\n",
       "}\n",
       "\n",
       ".xr-section-item input:enabled + label {\n",
       "  cursor: pointer;\n",
       "  color: var(--xr-font-color2);\n",
       "}\n",
       "\n",
       ".xr-section-item input:enabled + label:hover {\n",
       "  color: var(--xr-font-color0);\n",
       "}\n",
       "\n",
       ".xr-section-summary {\n",
       "  grid-column: 1;\n",
       "  color: var(--xr-font-color2);\n",
       "  font-weight: 500;\n",
       "}\n",
       "\n",
       ".xr-section-summary > span {\n",
       "  display: inline-block;\n",
       "  padding-left: 0.5em;\n",
       "}\n",
       "\n",
       ".xr-section-summary-in:disabled + label {\n",
       "  color: var(--xr-font-color2);\n",
       "}\n",
       "\n",
       ".xr-section-summary-in + label:before {\n",
       "  display: inline-block;\n",
       "  content: '►';\n",
       "  font-size: 11px;\n",
       "  width: 15px;\n",
       "  text-align: center;\n",
       "}\n",
       "\n",
       ".xr-section-summary-in:disabled + label:before {\n",
       "  color: var(--xr-disabled-color);\n",
       "}\n",
       "\n",
       ".xr-section-summary-in:checked + label:before {\n",
       "  content: '▼';\n",
       "}\n",
       "\n",
       ".xr-section-summary-in:checked + label > span {\n",
       "  display: none;\n",
       "}\n",
       "\n",
       ".xr-section-summary,\n",
       ".xr-section-inline-details {\n",
       "  padding-top: 4px;\n",
       "  padding-bottom: 4px;\n",
       "}\n",
       "\n",
       ".xr-section-inline-details {\n",
       "  grid-column: 2 / -1;\n",
       "}\n",
       "\n",
       ".xr-section-details {\n",
       "  display: none;\n",
       "  grid-column: 1 / -1;\n",
       "  margin-bottom: 5px;\n",
       "}\n",
       "\n",
       ".xr-section-summary-in:checked ~ .xr-section-details {\n",
       "  display: contents;\n",
       "}\n",
       "\n",
       ".xr-array-wrap {\n",
       "  grid-column: 1 / -1;\n",
       "  display: grid;\n",
       "  grid-template-columns: 20px auto;\n",
       "}\n",
       "\n",
       ".xr-array-wrap > label {\n",
       "  grid-column: 1;\n",
       "  vertical-align: top;\n",
       "}\n",
       "\n",
       ".xr-preview {\n",
       "  color: var(--xr-font-color3);\n",
       "}\n",
       "\n",
       ".xr-array-preview,\n",
       ".xr-array-data {\n",
       "  padding: 0 5px !important;\n",
       "  grid-column: 2;\n",
       "}\n",
       "\n",
       ".xr-array-data,\n",
       ".xr-array-in:checked ~ .xr-array-preview {\n",
       "  display: none;\n",
       "}\n",
       "\n",
       ".xr-array-in:checked ~ .xr-array-data,\n",
       ".xr-array-preview {\n",
       "  display: inline-block;\n",
       "}\n",
       "\n",
       ".xr-dim-list {\n",
       "  display: inline-block !important;\n",
       "  list-style: none;\n",
       "  padding: 0 !important;\n",
       "  margin: 0;\n",
       "}\n",
       "\n",
       ".xr-dim-list li {\n",
       "  display: inline-block;\n",
       "  padding: 0;\n",
       "  margin: 0;\n",
       "}\n",
       "\n",
       ".xr-dim-list:before {\n",
       "  content: '(';\n",
       "}\n",
       "\n",
       ".xr-dim-list:after {\n",
       "  content: ')';\n",
       "}\n",
       "\n",
       ".xr-dim-list li:not(:last-child):after {\n",
       "  content: ',';\n",
       "  padding-right: 5px;\n",
       "}\n",
       "\n",
       ".xr-has-index {\n",
       "  font-weight: bold;\n",
       "}\n",
       "\n",
       ".xr-var-list,\n",
       ".xr-var-item {\n",
       "  display: contents;\n",
       "}\n",
       "\n",
       ".xr-var-item > div,\n",
       ".xr-var-item label,\n",
       ".xr-var-item > .xr-var-name span {\n",
       "  background-color: var(--xr-background-color-row-even);\n",
       "  margin-bottom: 0;\n",
       "}\n",
       "\n",
       ".xr-var-item > .xr-var-name:hover span {\n",
       "  padding-right: 5px;\n",
       "}\n",
       "\n",
       ".xr-var-list > li:nth-child(odd) > div,\n",
       ".xr-var-list > li:nth-child(odd) > label,\n",
       ".xr-var-list > li:nth-child(odd) > .xr-var-name span {\n",
       "  background-color: var(--xr-background-color-row-odd);\n",
       "}\n",
       "\n",
       ".xr-var-name {\n",
       "  grid-column: 1;\n",
       "}\n",
       "\n",
       ".xr-var-dims {\n",
       "  grid-column: 2;\n",
       "}\n",
       "\n",
       ".xr-var-dtype {\n",
       "  grid-column: 3;\n",
       "  text-align: right;\n",
       "  color: var(--xr-font-color2);\n",
       "}\n",
       "\n",
       ".xr-var-preview {\n",
       "  grid-column: 4;\n",
       "}\n",
       "\n",
       ".xr-var-name,\n",
       ".xr-var-dims,\n",
       ".xr-var-dtype,\n",
       ".xr-preview,\n",
       ".xr-attrs dt {\n",
       "  white-space: nowrap;\n",
       "  overflow: hidden;\n",
       "  text-overflow: ellipsis;\n",
       "  padding-right: 10px;\n",
       "}\n",
       "\n",
       ".xr-var-name:hover,\n",
       ".xr-var-dims:hover,\n",
       ".xr-var-dtype:hover,\n",
       ".xr-attrs dt:hover {\n",
       "  overflow: visible;\n",
       "  width: auto;\n",
       "  z-index: 1;\n",
       "}\n",
       "\n",
       ".xr-var-attrs,\n",
       ".xr-var-data {\n",
       "  display: none;\n",
       "  background-color: var(--xr-background-color) !important;\n",
       "  padding-bottom: 5px !important;\n",
       "}\n",
       "\n",
       ".xr-var-attrs-in:checked ~ .xr-var-attrs,\n",
       ".xr-var-data-in:checked ~ .xr-var-data {\n",
       "  display: block;\n",
       "}\n",
       "\n",
       ".xr-var-data > table {\n",
       "  float: right;\n",
       "}\n",
       "\n",
       ".xr-var-name span,\n",
       ".xr-var-data,\n",
       ".xr-attrs {\n",
       "  padding-left: 25px !important;\n",
       "}\n",
       "\n",
       ".xr-attrs,\n",
       ".xr-var-attrs,\n",
       ".xr-var-data {\n",
       "  grid-column: 1 / -1;\n",
       "}\n",
       "\n",
       "dl.xr-attrs {\n",
       "  padding: 0;\n",
       "  margin: 0;\n",
       "  display: grid;\n",
       "  grid-template-columns: 125px auto;\n",
       "}\n",
       "\n",
       ".xr-attrs dt, dd {\n",
       "  padding: 0;\n",
       "  margin: 0;\n",
       "  float: left;\n",
       "  padding-right: 10px;\n",
       "  width: auto;\n",
       "}\n",
       "\n",
       ".xr-attrs dt {\n",
       "  font-weight: normal;\n",
       "  grid-column: 1;\n",
       "}\n",
       "\n",
       ".xr-attrs dt:hover span {\n",
       "  display: inline-block;\n",
       "  background: var(--xr-background-color);\n",
       "  padding-right: 10px;\n",
       "}\n",
       "\n",
       ".xr-attrs dd {\n",
       "  grid-column: 2;\n",
       "  white-space: pre-wrap;\n",
       "  word-break: break-all;\n",
       "}\n",
       "\n",
       ".xr-icon-database,\n",
       ".xr-icon-file-text2 {\n",
       "  display: inline-block;\n",
       "  vertical-align: middle;\n",
       "  width: 1em;\n",
       "  height: 1.5em !important;\n",
       "  stroke-width: 0;\n",
       "  stroke: currentColor;\n",
       "  fill: currentColor;\n",
       "}\n",
       "</style><div class='xr-wrap'><div class='xr-header'><div class='xr-obj-type'>xarray.DataArray</div><div class='xr-array-name'>'ND_D_OBS'</div><ul class='xr-dim-list'><li><span class='xr-has-index'>DEPTH</span>: 19</li></ul></div><ul class='xr-sections'><li class='xr-section-item'><div class='xr-array-wrap'><input id='section-c02a9658-4709-4a64-835b-842f046ef018' class='xr-array-in' type='checkbox' ><label for='section-c02a9658-4709-4a64-835b-842f046ef018' title='Show/hide data repr'><svg class='icon xr-icon-database'><use xlink:href='#icon-database'></use></svg></label><div class='xr-array-preview xr-preview'><span>15.2 11.38 11.82 12.26 14.13 13.45 ... 26.91 30.48 33.16 36.5 35.49</span></div><pre class='xr-array-data'>array([15.19503951, 11.37986209, 11.81932482, 12.25589886, 14.12610545,\n",
       "       13.44904278, 14.45205284, 15.21294248, 16.06162192, 17.46210641,\n",
       "       18.42986677, 20.22138517, 21.31064583, 23.97900704, 26.91334793,\n",
       "       30.48211687, 33.15891764, 36.50060649, 35.485398  ])</pre></div></li><li class='xr-section-item'><input id='section-49f80ac3-9c6b-4165-803c-625513a392e5' class='xr-section-summary-in' type='checkbox'  checked><label for='section-49f80ac3-9c6b-4165-803c-625513a392e5' class='xr-section-summary' >Coordinates: <span>(1)</span></label><div class='xr-section-inline-details'></div><div class='xr-section-details'><ul class='xr-var-list'><li class='xr-var-item'><div class='xr-var-name'><span class='xr-has-index'>DEPTH</span></div><div class='xr-var-dims'>(DEPTH)</div><div class='xr-var-dtype'>float64</div><div class='xr-var-preview xr-preview'>17.5 82.5 ... 5.202e+03 5.778e+03</div><input id='attrs-7673cbc7-8163-460d-a94b-4c04e6798f52' class='xr-var-attrs-in' type='checkbox' ><label for='attrs-7673cbc7-8163-460d-a94b-4c04e6798f52' title='Show/Hide attributes'><svg class='icon xr-icon-file-text2'><use xlink:href='#icon-file-text2'></use></svg></label><input id='data-a4d0090e-d8fb-46d1-abb9-32756610bdc5' class='xr-var-data-in' type='checkbox'><label for='data-a4d0090e-d8fb-46d1-abb9-32756610bdc5' title='Show/Hide data repr'><svg class='icon xr-icon-database'><use xlink:href='#icon-database'></use></svg></label><div class='xr-var-attrs'><dl class='xr-attrs'><dt><span>long_name :</span></dt><dd>depth</dd><dt><span>units :</span></dt><dd>m</dd><dt><span>positive :</span></dt><dd>down</dd><dt><span>point_spacing :</span></dt><dd>uneven</dd><dt><span>axis :</span></dt><dd>Z</dd><dt><span>standard_name :</span></dt><dd>depth</dd><dt><span>bounds :</span></dt><dd>DEPTH_bnds</dd></dl></div><pre class='xr-var-data'>array([  17.5,   82.5,  177.5,  302.5,  457.5,  642.5,  857.5, 1102.5, 1377.5,\n",
       "       1682.5, 2017.5, 2382.5, 2777.5, 3202.5, 3657.5, 4142.5, 4657.5, 5202.5,\n",
       "       5777.5])</pre></li></ul></div></li><li class='xr-section-item'><input id='section-0b1ce621-37c3-4cb4-a2d2-baa24759fc2e' class='xr-section-summary-in' type='checkbox' disabled ><label for='section-0b1ce621-37c3-4cb4-a2d2-baa24759fc2e' class='xr-section-summary'  title='Expand/collapse section'>Attributes: <span>(0)</span></label><div class='xr-section-inline-details'></div><div class='xr-section-details'><dl class='xr-attrs'></dl></div></li></ul></div></div>"
      ],
      "text/plain": [
       "<xarray.DataArray 'ND_D_OBS' (DEPTH: 19)>\n",
       "array([15.19503951, 11.37986209, 11.81932482, 12.25589886, 14.12610545,\n",
       "       13.44904278, 14.45205284, 15.21294248, 16.06162192, 17.46210641,\n",
       "       18.42986677, 20.22138517, 21.31064583, 23.97900704, 26.91334793,\n",
       "       30.48211687, 33.15891764, 36.50060649, 35.485398  ])\n",
       "Coordinates:\n",
       "  * DEPTH    (DEPTH) float64 17.5 82.5 177.5 ... 4.658e+03 5.202e+03 5.778e+03"
      ]
     },
     "execution_count": 42,
     "metadata": {},
     "output_type": "execute_result"
    }
   ],
   "source": [
    "GEOTRACERS_ds.ND_D_OBS.mean(dim=['LATITUDE','LONGITUDE'])"
   ]
  },
  {
   "cell_type": "code",
   "execution_count": 43,
   "metadata": {},
   "outputs": [],
   "source": [
    "# uvic_pnd=UVIC10000yr_ds.O_dnd\n",
    "\n",
    "# uvic_pnd_ave=o_dnd.mean(dim=['latitude','longitude'])\n",
    "\n",
    "uvic_pnd=UVIC10000yr_ds.O_detrnd\n",
    "\n",
    "uvic_pnd_ave=uvic_pnd.mean(dim=['latitude','longitude'])"
   ]
  },
  {
   "cell_type": "code",
   "execution_count": 44,
   "metadata": {},
   "outputs": [],
   "source": [
    "# vert_bin=np.arange(0,np.max(JD_ds_dropna['w_depth']),100)\n",
    "# Nd_binned=np.zeros(len(vert_bin))\n",
    "# #the mean of Nd concentration where the distance from the bottom is binned\n",
    "# for i in range (0,len(vert_bin)):\n",
    "#         Nd_binned[i]=np.mean(JD_ds_dropna['Nd'][(JD_ds_dropna['w_depth']<vert_bin[i])&(JD_ds_dropna['w_depth']>vert_bin[i-1])])"
   ]
  },
  {
   "cell_type": "code",
   "execution_count": 45,
   "metadata": {},
   "outputs": [
    {
     "data": {
      "text/plain": [
       "<matplotlib.legend.Legend at 0x7f9c25fc5d90>"
      ]
     },
     "execution_count": 45,
     "metadata": {},
     "output_type": "execute_result"
    },
    {
     "data": {
      "image/png": "[encoded data removed]",
      "text/plain": [
       "<Figure size 432x288 with 1 Axes>"
      ]
     },
     "metadata": {
      "needs_background": "light"
     },
     "output_type": "display_data"
    }
   ],
   "source": [
    "#plt.plot((Cp_1_rev[246:,-1]/1020)*(1e12),adjusted_z,label=' RS variable diffusion coefficent')\n",
    "plt.title('Particulate Nd 300 years')\n",
    "plt.plot(Cp[:,-1],z_C,label=' IS constant coefficent')\n",
    "#plt.plot(Cp_1[:,-1]/1020*1e12,z_C,label=' IS variable diffusion coefficent')\n",
    "#plt.plot(uvic_pnd_ave[9,:]/1020,UVIC10000yr_ds.depth,label='Uvic-10000yr run')\n",
    "#plt.plot(o_pnd_ave,GEOTRACERS_ds.DEPTH,\"*\",label='Geotracers')\n",
    "plt.xlabel('Nd pmol/kg')\n",
    "plt.ylabel('depth (m)')\n",
    "#plt.xlim(0,0.6)\n",
    "plt.gca().invert_yaxis()\n",
    "plt.legend(bbox_to_anchor=(1., 1),fontsize=10)\n",
    "\n"
   ]
  },
  {
   "cell_type": "code",
   "execution_count": 46,
   "metadata": {},
   "outputs": [
    {
     "data": {
      "text/plain": [
       "<matplotlib.legend.Legend at 0x7f9c27ef2ad0>"
      ]
     },
     "execution_count": 46,
     "metadata": {},
     "output_type": "execute_result"
    },
    {
     "data": {
      "image/png": "[encoded data removed]",
      "text/plain": [
       "<Figure size 432x288 with 1 Axes>"
      ]
     },
     "metadata": {
      "needs_background": "light"
     },
     "output_type": "display_data"
    }
   ],
   "source": [
    "#plt.plot(z_C,Cp[:,-1],label='particulate')\n",
    "plt.title('Global data and 10,000 yr model comparison dissolved Nd ')\n",
    "\n",
    "plt.plot((Cd[:,-1]*1e12)/1020,z_C,label=' IS constant 10^-4 m^2/s diffusion coefficent')\n",
    "#plt.plot(Cd_1[:,-1]*1e12/1020,z_C,label=' IS variable diffusion coefficent')\n",
    "#plt.plot(Cd_2[:,-1]*1e12/1020,z_C,label='IS  constant 10^-5 m^2/s diffusion coefficent')\n",
    "#plt.plot(Nd_binned*1e-12,vert_bin,'*', label='observed binned data')\n",
    "#plt.plot(Pacific['Nd']*1e-12,Pacific['w_depth'],'*',label='JD data')\n",
    "#plt.plot(HaleyB_ds['Nd (pM)']*1e-12,HaleyB_ds['Depth'],'*',label='Brian pacific data ')\n",
    "plt.plot(GEOTRACERS_ds.ND_D_OBS.mean(dim=['LATITUDE','LONGITUDE']),GEOTRACERS_ds.ND_D_OBS.mean(dim=['LATITUDE','LONGITUDE']).DEPTH,\"o\",label=\"GEOTRACER\")\n",
    "plt.plot(o_dnd_ave[9,:]*1e12/1020,UVIC10000yr_ds.depth,label='Uvic-10,000yr run')\n",
    "\n",
    "plt.xlabel('Dissolved Nd pmol/kg')\n",
    "plt.ylabel('depth (m)')\n",
    "plt.gca().invert_yaxis()\n",
    "plt.legend(bbox_to_anchor=(1., 1),fontsize=10)"
   ]
  },
  {
   "cell_type": "code",
   "execution_count": 47,
   "metadata": {},
   "outputs": [
    {
     "data": {
      "text/plain": [
       "<matplotlib.legend.Legend at 0x7f9c25b53b10>"
      ]
     },
     "execution_count": 47,
     "metadata": {},
     "output_type": "execute_result"
    },
    {
     "data": {
      "image/png": "[encoded data removed]",
      "text/plain": [
       "<Figure size 432x288 with 1 Axes>"
      ]
     },
     "metadata": {
      "needs_background": "light"
     },
     "output_type": "display_data"
    }
   ],
   "source": [
    "\n",
    "plt.title('Global data and 10,000 yr model comparison dissolved Nd ')\n",
    "\n",
    "plt.plot(Cd[:,-1],z_C,label=' IS constant 10^-4 m^2/s diffusion coefficent')\n",
    "\n",
    "plt.plot(analytical*rel_area,z_C,'--' ,label='10 pmol cm-2 yr-1 analytical solution')\n",
    "\n",
    "# plt.plot(GEOTRACERS_ds.ND_D_OBS.mean(dim=['LATITUDE','LONGITUDE']),GEOTRACERS_ds.ND_D_OBS.mean(dim=['LATITUDE','LONGITUDE']).DEPTH,\"o\",label=\"GEOTRACER\")\n",
    "# plt.plot(o_dnd_ave[9,:]*1e12/1020,UVIC10000yr_ds.depth,label='Uvic-10,000yr run')\n",
    "\n",
    "plt.xlabel('Dissolved Nd pmol/kg')\n",
    "plt.ylabel('depth (m)')\n",
    "plt.gca().invert_yaxis()\n",
    "plt.legend(bbox_to_anchor=(1., 1),fontsize=10)"
   ]
  },
  {
   "cell_type": "code",
   "execution_count": 48,
   "metadata": {},
   "outputs": [
    {
     "data": {
      "text/plain": [
       "array([0.        , 0.01479347, 0.00812268, 0.00833569, 0.00949327,\n",
       "       0.00943721, 0.02323287, 0.03952026, 0.01976013, 0.02314038,\n",
       "       0.05210508, 0.0692025 , 0.04072549, 0.06995927, 0.11452468,\n",
       "       0.14877557, 0.13333184, 0.13846106, 0.07707853])"
      ]
     },
     "execution_count": 48,
     "metadata": {},
     "output_type": "execute_result"
    }
   ],
   "source": [
    "rel_area"
   ]
  },
  {
   "cell_type": "code",
   "execution_count": 49,
   "metadata": {},
   "outputs": [],
   "source": [
    "# plt.title('Global data and 10,000 yr model comparison dissolved Nd ')\n",
    "\n",
    "# #plt.plot((Cd[:,-1])/1020,z_C,label=' IS constant 10^-4 m^2/s diffusion coefficent')\n",
    "# plt.plot(Cd_1[:,-1]*1e12/1020,z_C,label=' IS variable diffusion coefficent sed flux 10 pmol cm-2 yr-1')\n",
    "# #plt.plot(Cd_2[:,-1]/1020,z_C,label='IS  constant 10^-5 m^2/s diffusion coefficent')\n",
    "# plt.plot(Cd_5[:,-1]*1e12/1020,z_C,label=' IS variable diffusion coefficent sed flux 5 pmol cm-2 yr-1')\n",
    "# #plt.plot(analytical/1020,z_C,'--' ,label='5pmol cm-2 yr-1 analytical solution')\n",
    "# plt.plot(GEOTRACERS_ds.ND_D_OBS.mean(dim=['LATITUDE','LONGITUDE']),GEOTRACERS_ds.ND_D_OBS.mean(dim=['LATITUDE','LONGITUDE']).DEPTH,\"o\",label=\"GEOTRACER\")\n",
    "# plt.plot(o_dnd_ave[9,:]*1e12/1020,UVIC10000yr_ds.depth,label='Uvic-10,000yr run sed flux 10 pmol cm-2 yr-1')\n",
    "\n",
    "# plt.xlabel('Dissolved Nd pmol/kg')\n",
    "# plt.ylabel('depth (m)')\n",
    "# plt.gca().invert_yaxis()\n",
    "# plt.legend(bbox_to_anchor=(1., 1),fontsize=10)"
   ]
  },
  {
   "cell_type": "code",
   "execution_count": 50,
   "metadata": {},
   "outputs": [],
   "source": [
    "# read in sedflux and kp values\n",
    "flux_adsorp_desorp_df=pd.read_excel('Bflux_K_adsorption_desorption.xlsx')\n",
    "bottom_fluxes=flux_adsorp_desorp_df['Benthic Fluxes (pmol cm^-2 yr^-2)']\n",
    "adsorption=flux_adsorp_desorp_df['K (1/yr)']"
   ]
  },
  {
   "cell_type": "code",
   "execution_count": 51,
   "metadata": {},
   "outputs": [
    {
     "data": {
      "text/html": [
       "<div>\n",
       "<style scoped>\n",
       "    .dataframe tbody tr th:only-of-type {\n",
       "        vertical-align: middle;\n",
       "    }\n",
       "\n",
       "    .dataframe tbody tr th {\n",
       "        vertical-align: top;\n",
       "    }\n",
       "\n",
       "    .dataframe thead th {\n",
       "        text-align: right;\n",
       "    }\n",
       "</style>\n",
       "<table border=\"1\" class=\"dataframe\">\n",
       "  <thead>\n",
       "    <tr style=\"text-align: right;\">\n",
       "      <th></th>\n",
       "      <th>Benthic Fluxes (pmol cm^-2 yr^-2)</th>\n",
       "      <th>Residence time dissolved (yr)</th>\n",
       "      <th>K (1/yr)</th>\n",
       "      <th>Residence time particulate (yr)</th>\n",
       "      <th>K(desorption) (1/yr)</th>\n",
       "    </tr>\n",
       "  </thead>\n",
       "  <tbody>\n",
       "    <tr>\n",
       "      <th>0</th>\n",
       "      <td>1</td>\n",
       "      <td>7018.528018</td>\n",
       "      <td>0.000142</td>\n",
       "      <td>279.314596</td>\n",
       "      <td>0.003580</td>\n",
       "    </tr>\n",
       "    <tr>\n",
       "      <th>1</th>\n",
       "      <td>2</td>\n",
       "      <td>3509.264009</td>\n",
       "      <td>0.000285</td>\n",
       "      <td>139.657298</td>\n",
       "      <td>0.007160</td>\n",
       "    </tr>\n",
       "    <tr>\n",
       "      <th>2</th>\n",
       "      <td>5</td>\n",
       "      <td>1403.705604</td>\n",
       "      <td>0.000712</td>\n",
       "      <td>55.862919</td>\n",
       "      <td>0.017901</td>\n",
       "    </tr>\n",
       "    <tr>\n",
       "      <th>3</th>\n",
       "      <td>10</td>\n",
       "      <td>701.852802</td>\n",
       "      <td>0.001425</td>\n",
       "      <td>27.931460</td>\n",
       "      <td>0.035802</td>\n",
       "    </tr>\n",
       "    <tr>\n",
       "      <th>4</th>\n",
       "      <td>15</td>\n",
       "      <td>467.901868</td>\n",
       "      <td>0.002137</td>\n",
       "      <td>18.620973</td>\n",
       "      <td>0.053703</td>\n",
       "    </tr>\n",
       "    <tr>\n",
       "      <th>5</th>\n",
       "      <td>20</td>\n",
       "      <td>350.926401</td>\n",
       "      <td>0.002850</td>\n",
       "      <td>13.965730</td>\n",
       "      <td>0.071604</td>\n",
       "    </tr>\n",
       "    <tr>\n",
       "      <th>6</th>\n",
       "      <td>25</td>\n",
       "      <td>280.741121</td>\n",
       "      <td>0.003562</td>\n",
       "      <td>11.172584</td>\n",
       "      <td>0.089505</td>\n",
       "    </tr>\n",
       "    <tr>\n",
       "      <th>7</th>\n",
       "      <td>30</td>\n",
       "      <td>233.950934</td>\n",
       "      <td>0.004274</td>\n",
       "      <td>9.310487</td>\n",
       "      <td>0.107406</td>\n",
       "    </tr>\n",
       "    <tr>\n",
       "      <th>8</th>\n",
       "      <td>35</td>\n",
       "      <td>200.529372</td>\n",
       "      <td>0.004987</td>\n",
       "      <td>7.980417</td>\n",
       "      <td>0.125307</td>\n",
       "    </tr>\n",
       "    <tr>\n",
       "      <th>9</th>\n",
       "      <td>40</td>\n",
       "      <td>175.463200</td>\n",
       "      <td>0.005699</td>\n",
       "      <td>6.982865</td>\n",
       "      <td>0.143208</td>\n",
       "    </tr>\n",
       "    <tr>\n",
       "      <th>10</th>\n",
       "      <td>50</td>\n",
       "      <td>140.370560</td>\n",
       "      <td>0.007124</td>\n",
       "      <td>5.586292</td>\n",
       "      <td>0.179010</td>\n",
       "    </tr>\n",
       "    <tr>\n",
       "      <th>11</th>\n",
       "      <td>70</td>\n",
       "      <td>100.264686</td>\n",
       "      <td>0.009974</td>\n",
       "      <td>3.990209</td>\n",
       "      <td>0.250613</td>\n",
       "    </tr>\n",
       "    <tr>\n",
       "      <th>12</th>\n",
       "      <td>100</td>\n",
       "      <td>70.185280</td>\n",
       "      <td>0.014248</td>\n",
       "      <td>2.793146</td>\n",
       "      <td>0.358019</td>\n",
       "    </tr>\n",
       "  </tbody>\n",
       "</table>\n",
       "</div>"
      ],
      "text/plain": [
       "    Benthic Fluxes (pmol cm^-2 yr^-2)  Residence time dissolved (yr)  \\\n",
       "0                                   1                    7018.528018   \n",
       "1                                   2                    3509.264009   \n",
       "2                                   5                    1403.705604   \n",
       "3                                  10                     701.852802   \n",
       "4                                  15                     467.901868   \n",
       "5                                  20                     350.926401   \n",
       "6                                  25                     280.741121   \n",
       "7                                  30                     233.950934   \n",
       "8                                  35                     200.529372   \n",
       "9                                  40                     175.463200   \n",
       "10                                 50                     140.370560   \n",
       "11                                 70                     100.264686   \n",
       "12                                100                      70.185280   \n",
       "\n",
       "    K (1/yr)  Residence time particulate (yr)  K(desorption) (1/yr)  \n",
       "0   0.000142                       279.314596              0.003580  \n",
       "1   0.000285                       139.657298              0.007160  \n",
       "2   0.000712                        55.862919              0.017901  \n",
       "3   0.001425                        27.931460              0.035802  \n",
       "4   0.002137                        18.620973              0.053703  \n",
       "5   0.002850                        13.965730              0.071604  \n",
       "6   0.003562                        11.172584              0.089505  \n",
       "7   0.004274                         9.310487              0.107406  \n",
       "8   0.004987                         7.980417              0.125307  \n",
       "9   0.005699                         6.982865              0.143208  \n",
       "10  0.007124                         5.586292              0.179010  \n",
       "11  0.009974                         3.990209              0.250613  \n",
       "12  0.014248                         2.793146              0.358019  "
      ]
     },
     "execution_count": 51,
     "metadata": {},
     "output_type": "execute_result"
    }
   ],
   "source": [
    "flux_adsorp_desorp_df"
   ]
  },
  {
   "cell_type": "code",
   "execution_count": 52,
   "metadata": {},
   "outputs": [],
   "source": [
    "# 1-D model 5pmolcm-2 yr-1\n",
    "Diffusivity=Ko*np.exp((-z_C[:]+z_C[-1])*-c)+Kf \n",
    "bf5_kp5_Cd, bf5_kp5_Cp, bf5_kp5_depth=calc_IR_conc(z_F,dt,5,Diffusivity,adsorption[2],t)\n",
    "\n",
    "# 1-D model 5pmolcm-2 yr-1 k of 10pmol\n",
    "Diffusivity=Ko*np.exp((-z_C[:]+z_C[-1])*-c)+Kf \n",
    "bf5_kp10_Cd, bf5_kp10_Cp, bf5_kp10_depth=calc_IR_conc(z_F,dt,5,Diffusivity,adsorption[3],t)\n",
    "\n",
    "\n",
    "# 1-D model 10pmolcm-2 yr-1 k of 10pmol\n",
    "Diffusivity=Ko*np.exp((-z_C[:]+z_C[-1])*-c)+Kf \n",
    "bf10_kp10_Cd, bf10_kp10_Cp, bf10_kp10_depth=calc_IR_conc(z_F,dt,10,Diffusivity,adsorption[3],t)"
   ]
  },
  {
   "cell_type": "code",
   "execution_count": 53,
   "metadata": {},
   "outputs": [
    {
     "data": {
      "text/plain": [
       "<matplotlib.legend.Legend at 0x7f9c2578d310>"
      ]
     },
     "execution_count": 53,
     "metadata": {},
     "output_type": "execute_result"
    },
    {
     "data": {
      "image/png": "[encoded data removed]",
      "text/plain": [
       "<Figure size 432x288 with 1 Axes>"
      ]
     },
     "metadata": {
      "needs_background": "light"
     },
     "output_type": "display_data"
    }
   ],
   "source": [
    "#exploring how variable sediment fluxes and adsoprtion coefficents impact the vertical distribution of dissolved Nd \n",
    "\n",
    "plt.title('Global data dissolved Nd sed flux 10 pmol cm-2 yr-1')\n",
    "\n",
    "plt.plot((Cd[:,-1])*1e12/1020,z_C,label='only at bottom layer')\n",
    "plt.plot(bf10_kp10_Cd[:,-1]*1e12/1020,bf10_kp10_depth,label= ' with relative seafloor')\n",
    "#plt.plot(bf5_kp5_Cd[:,-1]/1020,bf5_kp5_depth,label= 'sed flux 5 pmol cm-2 yr-1 with kp')\n",
    "#plt.plot(bf5_kp10_Cd[:,-1]/1020,bf5_kp10_depth,label= 'sed flux 5 pmol cm-2 yr-1 with kp for 10pmol cm-2 yr-1')\n",
    "\n",
    "plt.plot(GEOTRACERS_ds.ND_D_OBS.mean(dim=['LATITUDE','LONGITUDE']),GEOTRACERS_ds.ND_D_OBS.mean(dim=['LATITUDE','LONGITUDE']).DEPTH,\"o\",label=\"GEOTRACER\")\n",
    "plt.plot(o_dnd_ave[9,:]*1e12/1020,UVIC10000yr_ds.depth,label='Uvic-10,000yr run')\n",
    "\n",
    "plt.xlabel('Dissolved Nd pmol/kg')\n",
    "plt.ylabel('depth (m)')\n",
    "plt.gca().invert_yaxis()\n",
    "plt.legend(loc='upper right')\n",
    "#plt.legend(bbox_to_anchor=(1., 1),fontsize=10)"
   ]
  },
  {
   "cell_type": "code",
   "execution_count": 65,
   "metadata": {},
   "outputs": [
    {
     "data": {
      "text/plain": [
       "<matplotlib.legend.Legend at 0x7f9f93ac6610>"
      ]
     },
     "execution_count": 65,
     "metadata": {},
     "output_type": "execute_result"
    },
    {
     "data": {
      "image/png": "[encoded data removed]",
      "text/plain": [
       "<Figure size 432x288 with 1 Axes>"
      ]
     },
     "metadata": {
      "needs_background": "light"
     },
     "output_type": "display_data"
    }
   ],
   "source": [
    "plt.title('Global data particulate Nd')\n",
    "\n",
    "\n",
    "plt.plot(bf10_kp10_Cp[:,-1],bf10_kp10_depth,label= 'sed flux 10 pmol cm-2 yr-1 with kp')\n",
    "#plt.plot(Cp[:,-1],z_C,label='')\n",
    "plt.plot(bf5_kp5_Cp[:,-1],bf5_kp5_depth,label= 'sed flux 5 pmol cm-2 yr-1 with kp')\n",
    "plt.plot(bf5_kp10_Cp[:,-1],bf5_kp10_depth,label= 'sed flux 5 pmol cm-2 yr-1 with kp for 10pmol cm-2 yr-1')\n",
    "\n",
    "#plt.plot(GEOTRACERS_ds.ND_P_OBS.mean(dim=['LATITUDE','LONGITUDE'])*1e-12*1020,GEOTRACERS_ds.ND_D_OBS.mean(dim=['LATITUDE','LONGITUDE']).DEPTH,\"o\",label=\"GEOTRACER\")\n",
    "plt.plot(uvic_pnd_ave[9,:],UVIC10000yr_ds.depth,'--',label='Uvic-10,000yr run sed flux 10 pmol cm-2 yr-1')\n",
    "\n",
    "plt.xlabel('Particulate Nd mol/m^3')\n",
    "plt.ylabel('depth (m)')\n",
    "plt.gca().invert_yaxis()\n",
    "plt.legend(bbox_to_anchor=(1., 1),fontsize=10)\n",
    "#plt.xlim(0,0.5e-12)"
   ]
  },
  {
   "cell_type": "code",
   "execution_count": null,
   "metadata": {},
   "outputs": [],
   "source": []
  }
 ],
 "metadata": {
  "kernelspec": {
   "display_name": "Python 3",
   "language": "python",
   "name": "python3"
  },
  "language_info": {
   "codemirror_mode": {
    "name": "ipython",
    "version": 3
   },
   "file_extension": ".py",
   "mimetype": "text/x-python",
   "name": "python",
   "nbconvert_exporter": "python",
   "pygments_lexer": "ipython3",
   "version": "3.7.6"
  }
 },
 "nbformat": 4,
 "nbformat_minor": 4
}
